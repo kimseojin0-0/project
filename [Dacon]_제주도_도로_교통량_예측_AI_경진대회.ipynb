{
 "cells": [
  {
   "cell_type": "markdown",
   "id": "7138ef03",
   "metadata": {
    "id": "7138ef03"
   },
   "source": [
    "### 제주도 도로 교통량 예측 AI 경진대회\n",
    "\n",
    "- https://dacon.io/competitions/official/235985/data"
   ]
  },
  {
   "cell_type": "code",
   "execution_count": 51,
   "id": "227a1897",
   "metadata": {
    "colab": {
     "base_uri": "https://localhost:8080/",
     "height": 801
    },
    "id": "227a1897",
    "outputId": "74b090b6-cfe0-4a46-b4ad-f60a98d22218",
    "scrolled": false
   },
   "outputs": [
    {
     "data": {
      "text/html": [
       "\n",
       "  <div id=\"df-b9a95d99-db02-4a24-8b31-3ff6d97821c7\">\n",
       "    <div class=\"colab-df-container\">\n",
       "      <div>\n",
       "<style scoped>\n",
       "    .dataframe tbody tr th:only-of-type {\n",
       "        vertical-align: middle;\n",
       "    }\n",
       "\n",
       "    .dataframe tbody tr th {\n",
       "        vertical-align: top;\n",
       "    }\n",
       "\n",
       "    .dataframe thead th {\n",
       "        text-align: right;\n",
       "    }\n",
       "</style>\n",
       "<table border=\"1\" class=\"dataframe\">\n",
       "  <thead>\n",
       "    <tr style=\"text-align: right;\">\n",
       "      <th></th>\n",
       "      <th>변수명</th>\n",
       "      <th>변수 설명</th>\n",
       "    </tr>\n",
       "  </thead>\n",
       "  <tbody>\n",
       "    <tr>\n",
       "      <th>0</th>\n",
       "      <td>id</td>\n",
       "      <td>아이디</td>\n",
       "    </tr>\n",
       "    <tr>\n",
       "      <th>1</th>\n",
       "      <td>base_date</td>\n",
       "      <td>날짜</td>\n",
       "    </tr>\n",
       "    <tr>\n",
       "      <th>2</th>\n",
       "      <td>day_of_week</td>\n",
       "      <td>요일</td>\n",
       "    </tr>\n",
       "    <tr>\n",
       "      <th>3</th>\n",
       "      <td>base_hour</td>\n",
       "      <td>시간대</td>\n",
       "    </tr>\n",
       "    <tr>\n",
       "      <th>4</th>\n",
       "      <td>road_in_use</td>\n",
       "      <td>도로사용여부</td>\n",
       "    </tr>\n",
       "    <tr>\n",
       "      <th>5</th>\n",
       "      <td>lane_count</td>\n",
       "      <td>차로수</td>\n",
       "    </tr>\n",
       "    <tr>\n",
       "      <th>6</th>\n",
       "      <td>road_rating</td>\n",
       "      <td>도로등급</td>\n",
       "    </tr>\n",
       "    <tr>\n",
       "      <th>7</th>\n",
       "      <td>multi_linked</td>\n",
       "      <td>중용구간 여부</td>\n",
       "    </tr>\n",
       "    <tr>\n",
       "      <th>8</th>\n",
       "      <td>connect_code</td>\n",
       "      <td>연결로 코드</td>\n",
       "    </tr>\n",
       "    <tr>\n",
       "      <th>9</th>\n",
       "      <td>maximum_speed_limit</td>\n",
       "      <td>최고속도제한</td>\n",
       "    </tr>\n",
       "    <tr>\n",
       "      <th>10</th>\n",
       "      <td>weight_restricted</td>\n",
       "      <td>통과제한하중</td>\n",
       "    </tr>\n",
       "    <tr>\n",
       "      <th>11</th>\n",
       "      <td>height_restricted</td>\n",
       "      <td>통과제한높이</td>\n",
       "    </tr>\n",
       "    <tr>\n",
       "      <th>12</th>\n",
       "      <td>road_type</td>\n",
       "      <td>도로유형</td>\n",
       "    </tr>\n",
       "    <tr>\n",
       "      <th>13</th>\n",
       "      <td>start_latitude</td>\n",
       "      <td>시작지점의 위도</td>\n",
       "    </tr>\n",
       "    <tr>\n",
       "      <th>14</th>\n",
       "      <td>start_longitude</td>\n",
       "      <td>시작지점의 경도</td>\n",
       "    </tr>\n",
       "    <tr>\n",
       "      <th>15</th>\n",
       "      <td>start_turn_restricted</td>\n",
       "      <td>시작 지점의 회전제한 유무</td>\n",
       "    </tr>\n",
       "    <tr>\n",
       "      <th>16</th>\n",
       "      <td>end_latitude</td>\n",
       "      <td>도착지점의 위도</td>\n",
       "    </tr>\n",
       "    <tr>\n",
       "      <th>17</th>\n",
       "      <td>end_longitude</td>\n",
       "      <td>도착지점의 경도</td>\n",
       "    </tr>\n",
       "    <tr>\n",
       "      <th>18</th>\n",
       "      <td>end_turn_restricted</td>\n",
       "      <td>도작지점의 회전제한 유무</td>\n",
       "    </tr>\n",
       "    <tr>\n",
       "      <th>19</th>\n",
       "      <td>road_name</td>\n",
       "      <td>도로명</td>\n",
       "    </tr>\n",
       "    <tr>\n",
       "      <th>20</th>\n",
       "      <td>start_node_name</td>\n",
       "      <td>시작지점명</td>\n",
       "    </tr>\n",
       "    <tr>\n",
       "      <th>21</th>\n",
       "      <td>end_node_name</td>\n",
       "      <td>도착지점명</td>\n",
       "    </tr>\n",
       "    <tr>\n",
       "      <th>22</th>\n",
       "      <td>vehicle_restricted</td>\n",
       "      <td>통과제한차량</td>\n",
       "    </tr>\n",
       "    <tr>\n",
       "      <th>23</th>\n",
       "      <td>target</td>\n",
       "      <td>평균속도(km)</td>\n",
       "    </tr>\n",
       "  </tbody>\n",
       "</table>\n",
       "</div>\n",
       "      <button class=\"colab-df-convert\" onclick=\"convertToInteractive('df-b9a95d99-db02-4a24-8b31-3ff6d97821c7')\"\n",
       "              title=\"Convert this dataframe to an interactive table.\"\n",
       "              style=\"display:none;\">\n",
       "        \n",
       "  <svg xmlns=\"http://www.w3.org/2000/svg\" height=\"24px\"viewBox=\"0 0 24 24\"\n",
       "       width=\"24px\">\n",
       "    <path d=\"M0 0h24v24H0V0z\" fill=\"none\"/>\n",
       "    <path d=\"M18.56 5.44l.94 2.06.94-2.06 2.06-.94-2.06-.94-.94-2.06-.94 2.06-2.06.94zm-11 1L8.5 8.5l.94-2.06 2.06-.94-2.06-.94L8.5 2.5l-.94 2.06-2.06.94zm10 10l.94 2.06.94-2.06 2.06-.94-2.06-.94-.94-2.06-.94 2.06-2.06.94z\"/><path d=\"M17.41 7.96l-1.37-1.37c-.4-.4-.92-.59-1.43-.59-.52 0-1.04.2-1.43.59L10.3 9.45l-7.72 7.72c-.78.78-.78 2.05 0 2.83L4 21.41c.39.39.9.59 1.41.59.51 0 1.02-.2 1.41-.59l7.78-7.78 2.81-2.81c.8-.78.8-2.07 0-2.86zM5.41 20L4 18.59l7.72-7.72 1.47 1.35L5.41 20z\"/>\n",
       "  </svg>\n",
       "      </button>\n",
       "      \n",
       "  <style>\n",
       "    .colab-df-container {\n",
       "      display:flex;\n",
       "      flex-wrap:wrap;\n",
       "      gap: 12px;\n",
       "    }\n",
       "\n",
       "    .colab-df-convert {\n",
       "      background-color: #E8F0FE;\n",
       "      border: none;\n",
       "      border-radius: 50%;\n",
       "      cursor: pointer;\n",
       "      display: none;\n",
       "      fill: #1967D2;\n",
       "      height: 32px;\n",
       "      padding: 0 0 0 0;\n",
       "      width: 32px;\n",
       "    }\n",
       "\n",
       "    .colab-df-convert:hover {\n",
       "      background-color: #E2EBFA;\n",
       "      box-shadow: 0px 1px 2px rgba(60, 64, 67, 0.3), 0px 1px 3px 1px rgba(60, 64, 67, 0.15);\n",
       "      fill: #174EA6;\n",
       "    }\n",
       "\n",
       "    [theme=dark] .colab-df-convert {\n",
       "      background-color: #3B4455;\n",
       "      fill: #D2E3FC;\n",
       "    }\n",
       "\n",
       "    [theme=dark] .colab-df-convert:hover {\n",
       "      background-color: #434B5C;\n",
       "      box-shadow: 0px 1px 3px 1px rgba(0, 0, 0, 0.15);\n",
       "      filter: drop-shadow(0px 1px 2px rgba(0, 0, 0, 0.3));\n",
       "      fill: #FFFFFF;\n",
       "    }\n",
       "  </style>\n",
       "\n",
       "      <script>\n",
       "        const buttonEl =\n",
       "          document.querySelector('#df-b9a95d99-db02-4a24-8b31-3ff6d97821c7 button.colab-df-convert');\n",
       "        buttonEl.style.display =\n",
       "          google.colab.kernel.accessAllowed ? 'block' : 'none';\n",
       "\n",
       "        async function convertToInteractive(key) {\n",
       "          const element = document.querySelector('#df-b9a95d99-db02-4a24-8b31-3ff6d97821c7');\n",
       "          const dataTable =\n",
       "            await google.colab.kernel.invokeFunction('convertToInteractive',\n",
       "                                                     [key], {});\n",
       "          if (!dataTable) return;\n",
       "\n",
       "          const docLinkHtml = 'Like what you see? Visit the ' +\n",
       "            '<a target=\"_blank\" href=https://colab.research.google.com/notebooks/data_table.ipynb>data table notebook</a>'\n",
       "            + ' to learn more about interactive tables.';\n",
       "          element.innerHTML = '';\n",
       "          dataTable['output_type'] = 'display_data';\n",
       "          await google.colab.output.renderOutput(dataTable, element);\n",
       "          const docLink = document.createElement('div');\n",
       "          docLink.innerHTML = docLinkHtml;\n",
       "          element.appendChild(docLink);\n",
       "        }\n",
       "      </script>\n",
       "    </div>\n",
       "  </div>\n",
       "  "
      ],
      "text/plain": [
       "                      변수명           변수 설명\n",
       "0                      id             아이디\n",
       "1               base_date              날짜\n",
       "2             day_of_week              요일\n",
       "3               base_hour             시간대\n",
       "4             road_in_use          도로사용여부\n",
       "5              lane_count             차로수\n",
       "6             road_rating            도로등급\n",
       "7            multi_linked         중용구간 여부\n",
       "8            connect_code          연결로 코드\n",
       "9     maximum_speed_limit          최고속도제한\n",
       "10      weight_restricted          통과제한하중\n",
       "11      height_restricted          통과제한높이\n",
       "12              road_type            도로유형\n",
       "13         start_latitude        시작지점의 위도\n",
       "14        start_longitude        시작지점의 경도\n",
       "15  start_turn_restricted  시작 지점의 회전제한 유무\n",
       "16           end_latitude        도착지점의 위도\n",
       "17          end_longitude        도착지점의 경도\n",
       "18    end_turn_restricted   도작지점의 회전제한 유무\n",
       "19              road_name             도로명\n",
       "20        start_node_name           시작지점명\n",
       "21          end_node_name           도착지점명\n",
       "22     vehicle_restricted          통과제한차량\n",
       "23                 target        평균속도(km)"
      ]
     },
     "execution_count": 51,
     "metadata": {},
     "output_type": "execute_result"
    }
   ],
   "source": [
    "import pandas as pd\n",
    "\n",
    "data_info = pd.read_csv('/content/data_info.csv')\n",
    "data_info"
   ]
  },
  {
   "cell_type": "code",
   "execution_count": 52,
   "id": "2eb1045c",
   "metadata": {
    "id": "2eb1045c"
   },
   "outputs": [],
   "source": [
    "train = pd.read_csv('/content/train.csv')\n",
    "test = pd.read_csv('/content/test.csv')"
   ]
  },
  {
   "cell_type": "code",
   "execution_count": 53,
   "id": "cb6bc3c4",
   "metadata": {
    "colab": {
     "base_uri": "https://localhost:8080/",
     "height": 369
    },
    "id": "cb6bc3c4",
    "outputId": "ffe0b72d-3a33-4c27-8fea-8fba8c061e16",
    "scrolled": true
   },
   "outputs": [
    {
     "data": {
      "text/html": [
       "\n",
       "  <div id=\"df-89c5a7bf-f390-4555-b5ca-5577020b6e80\">\n",
       "    <div class=\"colab-df-container\">\n",
       "      <div>\n",
       "<style scoped>\n",
       "    .dataframe tbody tr th:only-of-type {\n",
       "        vertical-align: middle;\n",
       "    }\n",
       "\n",
       "    .dataframe tbody tr th {\n",
       "        vertical-align: top;\n",
       "    }\n",
       "\n",
       "    .dataframe thead th {\n",
       "        text-align: right;\n",
       "    }\n",
       "</style>\n",
       "<table border=\"1\" class=\"dataframe\">\n",
       "  <thead>\n",
       "    <tr style=\"text-align: right;\">\n",
       "      <th></th>\n",
       "      <th>id</th>\n",
       "      <th>base_date</th>\n",
       "      <th>day_of_week</th>\n",
       "      <th>base_hour</th>\n",
       "      <th>lane_count</th>\n",
       "      <th>road_rating</th>\n",
       "      <th>road_name</th>\n",
       "      <th>multi_linked</th>\n",
       "      <th>connect_code</th>\n",
       "      <th>maximum_speed_limit</th>\n",
       "      <th>...</th>\n",
       "      <th>road_type</th>\n",
       "      <th>start_node_name</th>\n",
       "      <th>start_latitude</th>\n",
       "      <th>start_longitude</th>\n",
       "      <th>start_turn_restricted</th>\n",
       "      <th>end_node_name</th>\n",
       "      <th>end_latitude</th>\n",
       "      <th>end_longitude</th>\n",
       "      <th>end_turn_restricted</th>\n",
       "      <th>target</th>\n",
       "    </tr>\n",
       "  </thead>\n",
       "  <tbody>\n",
       "    <tr>\n",
       "      <th>0</th>\n",
       "      <td>TRAIN_0000000</td>\n",
       "      <td>20220623</td>\n",
       "      <td>목</td>\n",
       "      <td>17</td>\n",
       "      <td>1</td>\n",
       "      <td>106</td>\n",
       "      <td>지방도1112호선</td>\n",
       "      <td>0</td>\n",
       "      <td>0</td>\n",
       "      <td>60.0</td>\n",
       "      <td>...</td>\n",
       "      <td>3</td>\n",
       "      <td>제3교래교</td>\n",
       "      <td>33.427747</td>\n",
       "      <td>126.662612</td>\n",
       "      <td>없음</td>\n",
       "      <td>제3교래교</td>\n",
       "      <td>33.427749</td>\n",
       "      <td>126.662335</td>\n",
       "      <td>없음</td>\n",
       "      <td>52.0</td>\n",
       "    </tr>\n",
       "    <tr>\n",
       "      <th>1</th>\n",
       "      <td>TRAIN_0000001</td>\n",
       "      <td>20220728</td>\n",
       "      <td>목</td>\n",
       "      <td>21</td>\n",
       "      <td>2</td>\n",
       "      <td>103</td>\n",
       "      <td>일반국도11호선</td>\n",
       "      <td>0</td>\n",
       "      <td>0</td>\n",
       "      <td>60.0</td>\n",
       "      <td>...</td>\n",
       "      <td>0</td>\n",
       "      <td>광양사거리</td>\n",
       "      <td>33.500730</td>\n",
       "      <td>126.529107</td>\n",
       "      <td>있음</td>\n",
       "      <td>KAL사거리</td>\n",
       "      <td>33.504811</td>\n",
       "      <td>126.526240</td>\n",
       "      <td>없음</td>\n",
       "      <td>30.0</td>\n",
       "    </tr>\n",
       "    <tr>\n",
       "      <th>2</th>\n",
       "      <td>TRAIN_0000002</td>\n",
       "      <td>20211010</td>\n",
       "      <td>일</td>\n",
       "      <td>7</td>\n",
       "      <td>2</td>\n",
       "      <td>103</td>\n",
       "      <td>일반국도16호선</td>\n",
       "      <td>0</td>\n",
       "      <td>0</td>\n",
       "      <td>80.0</td>\n",
       "      <td>...</td>\n",
       "      <td>0</td>\n",
       "      <td>창고천교</td>\n",
       "      <td>33.279145</td>\n",
       "      <td>126.368598</td>\n",
       "      <td>없음</td>\n",
       "      <td>상창육교</td>\n",
       "      <td>33.280072</td>\n",
       "      <td>126.362147</td>\n",
       "      <td>없음</td>\n",
       "      <td>61.0</td>\n",
       "    </tr>\n",
       "    <tr>\n",
       "      <th>3</th>\n",
       "      <td>TRAIN_0000003</td>\n",
       "      <td>20220311</td>\n",
       "      <td>금</td>\n",
       "      <td>13</td>\n",
       "      <td>2</td>\n",
       "      <td>107</td>\n",
       "      <td>태평로</td>\n",
       "      <td>0</td>\n",
       "      <td>0</td>\n",
       "      <td>50.0</td>\n",
       "      <td>...</td>\n",
       "      <td>0</td>\n",
       "      <td>남양리조트</td>\n",
       "      <td>33.246081</td>\n",
       "      <td>126.567204</td>\n",
       "      <td>없음</td>\n",
       "      <td>서현주택</td>\n",
       "      <td>33.245565</td>\n",
       "      <td>126.566228</td>\n",
       "      <td>없음</td>\n",
       "      <td>20.0</td>\n",
       "    </tr>\n",
       "    <tr>\n",
       "      <th>4</th>\n",
       "      <td>TRAIN_0000004</td>\n",
       "      <td>20211005</td>\n",
       "      <td>화</td>\n",
       "      <td>8</td>\n",
       "      <td>2</td>\n",
       "      <td>103</td>\n",
       "      <td>일반국도12호선</td>\n",
       "      <td>0</td>\n",
       "      <td>0</td>\n",
       "      <td>80.0</td>\n",
       "      <td>...</td>\n",
       "      <td>0</td>\n",
       "      <td>애월샷시</td>\n",
       "      <td>33.462214</td>\n",
       "      <td>126.326551</td>\n",
       "      <td>없음</td>\n",
       "      <td>애월입구</td>\n",
       "      <td>33.462677</td>\n",
       "      <td>126.330152</td>\n",
       "      <td>없음</td>\n",
       "      <td>38.0</td>\n",
       "    </tr>\n",
       "  </tbody>\n",
       "</table>\n",
       "<p>5 rows × 23 columns</p>\n",
       "</div>\n",
       "      <button class=\"colab-df-convert\" onclick=\"convertToInteractive('df-89c5a7bf-f390-4555-b5ca-5577020b6e80')\"\n",
       "              title=\"Convert this dataframe to an interactive table.\"\n",
       "              style=\"display:none;\">\n",
       "        \n",
       "  <svg xmlns=\"http://www.w3.org/2000/svg\" height=\"24px\"viewBox=\"0 0 24 24\"\n",
       "       width=\"24px\">\n",
       "    <path d=\"M0 0h24v24H0V0z\" fill=\"none\"/>\n",
       "    <path d=\"M18.56 5.44l.94 2.06.94-2.06 2.06-.94-2.06-.94-.94-2.06-.94 2.06-2.06.94zm-11 1L8.5 8.5l.94-2.06 2.06-.94-2.06-.94L8.5 2.5l-.94 2.06-2.06.94zm10 10l.94 2.06.94-2.06 2.06-.94-2.06-.94-.94-2.06-.94 2.06-2.06.94z\"/><path d=\"M17.41 7.96l-1.37-1.37c-.4-.4-.92-.59-1.43-.59-.52 0-1.04.2-1.43.59L10.3 9.45l-7.72 7.72c-.78.78-.78 2.05 0 2.83L4 21.41c.39.39.9.59 1.41.59.51 0 1.02-.2 1.41-.59l7.78-7.78 2.81-2.81c.8-.78.8-2.07 0-2.86zM5.41 20L4 18.59l7.72-7.72 1.47 1.35L5.41 20z\"/>\n",
       "  </svg>\n",
       "      </button>\n",
       "      \n",
       "  <style>\n",
       "    .colab-df-container {\n",
       "      display:flex;\n",
       "      flex-wrap:wrap;\n",
       "      gap: 12px;\n",
       "    }\n",
       "\n",
       "    .colab-df-convert {\n",
       "      background-color: #E8F0FE;\n",
       "      border: none;\n",
       "      border-radius: 50%;\n",
       "      cursor: pointer;\n",
       "      display: none;\n",
       "      fill: #1967D2;\n",
       "      height: 32px;\n",
       "      padding: 0 0 0 0;\n",
       "      width: 32px;\n",
       "    }\n",
       "\n",
       "    .colab-df-convert:hover {\n",
       "      background-color: #E2EBFA;\n",
       "      box-shadow: 0px 1px 2px rgba(60, 64, 67, 0.3), 0px 1px 3px 1px rgba(60, 64, 67, 0.15);\n",
       "      fill: #174EA6;\n",
       "    }\n",
       "\n",
       "    [theme=dark] .colab-df-convert {\n",
       "      background-color: #3B4455;\n",
       "      fill: #D2E3FC;\n",
       "    }\n",
       "\n",
       "    [theme=dark] .colab-df-convert:hover {\n",
       "      background-color: #434B5C;\n",
       "      box-shadow: 0px 1px 3px 1px rgba(0, 0, 0, 0.15);\n",
       "      filter: drop-shadow(0px 1px 2px rgba(0, 0, 0, 0.3));\n",
       "      fill: #FFFFFF;\n",
       "    }\n",
       "  </style>\n",
       "\n",
       "      <script>\n",
       "        const buttonEl =\n",
       "          document.querySelector('#df-89c5a7bf-f390-4555-b5ca-5577020b6e80 button.colab-df-convert');\n",
       "        buttonEl.style.display =\n",
       "          google.colab.kernel.accessAllowed ? 'block' : 'none';\n",
       "\n",
       "        async function convertToInteractive(key) {\n",
       "          const element = document.querySelector('#df-89c5a7bf-f390-4555-b5ca-5577020b6e80');\n",
       "          const dataTable =\n",
       "            await google.colab.kernel.invokeFunction('convertToInteractive',\n",
       "                                                     [key], {});\n",
       "          if (!dataTable) return;\n",
       "\n",
       "          const docLinkHtml = 'Like what you see? Visit the ' +\n",
       "            '<a target=\"_blank\" href=https://colab.research.google.com/notebooks/data_table.ipynb>data table notebook</a>'\n",
       "            + ' to learn more about interactive tables.';\n",
       "          element.innerHTML = '';\n",
       "          dataTable['output_type'] = 'display_data';\n",
       "          await google.colab.output.renderOutput(dataTable, element);\n",
       "          const docLink = document.createElement('div');\n",
       "          docLink.innerHTML = docLinkHtml;\n",
       "          element.appendChild(docLink);\n",
       "        }\n",
       "      </script>\n",
       "    </div>\n",
       "  </div>\n",
       "  "
      ],
      "text/plain": [
       "              id  base_date day_of_week  base_hour  lane_count  road_rating  \\\n",
       "0  TRAIN_0000000   20220623           목         17           1          106   \n",
       "1  TRAIN_0000001   20220728           목         21           2          103   \n",
       "2  TRAIN_0000002   20211010           일          7           2          103   \n",
       "3  TRAIN_0000003   20220311           금         13           2          107   \n",
       "4  TRAIN_0000004   20211005           화          8           2          103   \n",
       "\n",
       "   road_name  multi_linked  connect_code  maximum_speed_limit  ...  road_type  \\\n",
       "0  지방도1112호선             0             0                 60.0  ...          3   \n",
       "1   일반국도11호선             0             0                 60.0  ...          0   \n",
       "2   일반국도16호선             0             0                 80.0  ...          0   \n",
       "3        태평로             0             0                 50.0  ...          0   \n",
       "4   일반국도12호선             0             0                 80.0  ...          0   \n",
       "\n",
       "   start_node_name  start_latitude  start_longitude start_turn_restricted  \\\n",
       "0            제3교래교       33.427747       126.662612                    없음   \n",
       "1            광양사거리       33.500730       126.529107                    있음   \n",
       "2             창고천교       33.279145       126.368598                    없음   \n",
       "3            남양리조트       33.246081       126.567204                    없음   \n",
       "4             애월샷시       33.462214       126.326551                    없음   \n",
       "\n",
       "   end_node_name  end_latitude end_longitude end_turn_restricted  target  \n",
       "0          제3교래교     33.427749    126.662335                  없음    52.0  \n",
       "1         KAL사거리     33.504811    126.526240                  없음    30.0  \n",
       "2           상창육교     33.280072    126.362147                  없음    61.0  \n",
       "3           서현주택     33.245565    126.566228                  없음    20.0  \n",
       "4           애월입구     33.462677    126.330152                  없음    38.0  \n",
       "\n",
       "[5 rows x 23 columns]"
      ]
     },
     "execution_count": 53,
     "metadata": {},
     "output_type": "execute_result"
    }
   ],
   "source": [
    "train.head()"
   ]
  },
  {
   "cell_type": "code",
   "execution_count": 54,
   "id": "7605a177",
   "metadata": {
    "colab": {
     "base_uri": "https://localhost:8080/",
     "height": 351
    },
    "id": "7605a177",
    "outputId": "3a8fa2a8-0f17-4f67-b171-f2cc1ab8ee89"
   },
   "outputs": [
    {
     "data": {
      "text/html": [
       "\n",
       "  <div id=\"df-7090fafd-9303-4175-96a2-62d478a54e82\">\n",
       "    <div class=\"colab-df-container\">\n",
       "      <div>\n",
       "<style scoped>\n",
       "    .dataframe tbody tr th:only-of-type {\n",
       "        vertical-align: middle;\n",
       "    }\n",
       "\n",
       "    .dataframe tbody tr th {\n",
       "        vertical-align: top;\n",
       "    }\n",
       "\n",
       "    .dataframe thead th {\n",
       "        text-align: right;\n",
       "    }\n",
       "</style>\n",
       "<table border=\"1\" class=\"dataframe\">\n",
       "  <thead>\n",
       "    <tr style=\"text-align: right;\">\n",
       "      <th></th>\n",
       "      <th>id</th>\n",
       "      <th>base_date</th>\n",
       "      <th>day_of_week</th>\n",
       "      <th>base_hour</th>\n",
       "      <th>lane_count</th>\n",
       "      <th>road_rating</th>\n",
       "      <th>road_name</th>\n",
       "      <th>multi_linked</th>\n",
       "      <th>connect_code</th>\n",
       "      <th>maximum_speed_limit</th>\n",
       "      <th>...</th>\n",
       "      <th>height_restricted</th>\n",
       "      <th>road_type</th>\n",
       "      <th>start_node_name</th>\n",
       "      <th>start_latitude</th>\n",
       "      <th>start_longitude</th>\n",
       "      <th>start_turn_restricted</th>\n",
       "      <th>end_node_name</th>\n",
       "      <th>end_latitude</th>\n",
       "      <th>end_longitude</th>\n",
       "      <th>end_turn_restricted</th>\n",
       "    </tr>\n",
       "  </thead>\n",
       "  <tbody>\n",
       "    <tr>\n",
       "      <th>0</th>\n",
       "      <td>TEST_000000</td>\n",
       "      <td>20220825</td>\n",
       "      <td>목</td>\n",
       "      <td>17</td>\n",
       "      <td>3</td>\n",
       "      <td>107</td>\n",
       "      <td>연삼로</td>\n",
       "      <td>0</td>\n",
       "      <td>0</td>\n",
       "      <td>70.0</td>\n",
       "      <td>...</td>\n",
       "      <td>0.0</td>\n",
       "      <td>0</td>\n",
       "      <td>산지2교</td>\n",
       "      <td>33.499427</td>\n",
       "      <td>126.541298</td>\n",
       "      <td>없음</td>\n",
       "      <td>제주은행사거리</td>\n",
       "      <td>33.500772</td>\n",
       "      <td>126.543837</td>\n",
       "      <td>있음</td>\n",
       "    </tr>\n",
       "    <tr>\n",
       "      <th>1</th>\n",
       "      <td>TEST_000001</td>\n",
       "      <td>20220809</td>\n",
       "      <td>화</td>\n",
       "      <td>12</td>\n",
       "      <td>2</td>\n",
       "      <td>103</td>\n",
       "      <td>일반국도12호선</td>\n",
       "      <td>0</td>\n",
       "      <td>0</td>\n",
       "      <td>70.0</td>\n",
       "      <td>...</td>\n",
       "      <td>0.0</td>\n",
       "      <td>3</td>\n",
       "      <td>중문입구</td>\n",
       "      <td>33.258507</td>\n",
       "      <td>126.427003</td>\n",
       "      <td>없음</td>\n",
       "      <td>관광단지입구</td>\n",
       "      <td>33.258119</td>\n",
       "      <td>126.415840</td>\n",
       "      <td>없음</td>\n",
       "    </tr>\n",
       "    <tr>\n",
       "      <th>2</th>\n",
       "      <td>TEST_000002</td>\n",
       "      <td>20220805</td>\n",
       "      <td>금</td>\n",
       "      <td>2</td>\n",
       "      <td>1</td>\n",
       "      <td>103</td>\n",
       "      <td>일반국도16호선</td>\n",
       "      <td>0</td>\n",
       "      <td>0</td>\n",
       "      <td>60.0</td>\n",
       "      <td>...</td>\n",
       "      <td>0.0</td>\n",
       "      <td>0</td>\n",
       "      <td>도순3교</td>\n",
       "      <td>33.258960</td>\n",
       "      <td>126.476508</td>\n",
       "      <td>없음</td>\n",
       "      <td>도순2교</td>\n",
       "      <td>33.259206</td>\n",
       "      <td>126.474687</td>\n",
       "      <td>없음</td>\n",
       "    </tr>\n",
       "    <tr>\n",
       "      <th>3</th>\n",
       "      <td>TEST_000003</td>\n",
       "      <td>20220818</td>\n",
       "      <td>목</td>\n",
       "      <td>23</td>\n",
       "      <td>3</td>\n",
       "      <td>103</td>\n",
       "      <td>일반국도11호선</td>\n",
       "      <td>0</td>\n",
       "      <td>0</td>\n",
       "      <td>70.0</td>\n",
       "      <td>...</td>\n",
       "      <td>0.0</td>\n",
       "      <td>0</td>\n",
       "      <td>아라주공아파트</td>\n",
       "      <td>33.473494</td>\n",
       "      <td>126.545647</td>\n",
       "      <td>없음</td>\n",
       "      <td>인다마을</td>\n",
       "      <td>33.471061</td>\n",
       "      <td>126.545467</td>\n",
       "      <td>없음</td>\n",
       "    </tr>\n",
       "    <tr>\n",
       "      <th>4</th>\n",
       "      <td>TEST_000004</td>\n",
       "      <td>20220810</td>\n",
       "      <td>수</td>\n",
       "      <td>17</td>\n",
       "      <td>3</td>\n",
       "      <td>106</td>\n",
       "      <td>번영로</td>\n",
       "      <td>0</td>\n",
       "      <td>0</td>\n",
       "      <td>70.0</td>\n",
       "      <td>...</td>\n",
       "      <td>0.0</td>\n",
       "      <td>0</td>\n",
       "      <td>부록교 시종점</td>\n",
       "      <td>33.501477</td>\n",
       "      <td>126.569223</td>\n",
       "      <td>없음</td>\n",
       "      <td>봉개교 시종점</td>\n",
       "      <td>33.496863</td>\n",
       "      <td>126.581230</td>\n",
       "      <td>없음</td>\n",
       "    </tr>\n",
       "  </tbody>\n",
       "</table>\n",
       "<p>5 rows × 22 columns</p>\n",
       "</div>\n",
       "      <button class=\"colab-df-convert\" onclick=\"convertToInteractive('df-7090fafd-9303-4175-96a2-62d478a54e82')\"\n",
       "              title=\"Convert this dataframe to an interactive table.\"\n",
       "              style=\"display:none;\">\n",
       "        \n",
       "  <svg xmlns=\"http://www.w3.org/2000/svg\" height=\"24px\"viewBox=\"0 0 24 24\"\n",
       "       width=\"24px\">\n",
       "    <path d=\"M0 0h24v24H0V0z\" fill=\"none\"/>\n",
       "    <path d=\"M18.56 5.44l.94 2.06.94-2.06 2.06-.94-2.06-.94-.94-2.06-.94 2.06-2.06.94zm-11 1L8.5 8.5l.94-2.06 2.06-.94-2.06-.94L8.5 2.5l-.94 2.06-2.06.94zm10 10l.94 2.06.94-2.06 2.06-.94-2.06-.94-.94-2.06-.94 2.06-2.06.94z\"/><path d=\"M17.41 7.96l-1.37-1.37c-.4-.4-.92-.59-1.43-.59-.52 0-1.04.2-1.43.59L10.3 9.45l-7.72 7.72c-.78.78-.78 2.05 0 2.83L4 21.41c.39.39.9.59 1.41.59.51 0 1.02-.2 1.41-.59l7.78-7.78 2.81-2.81c.8-.78.8-2.07 0-2.86zM5.41 20L4 18.59l7.72-7.72 1.47 1.35L5.41 20z\"/>\n",
       "  </svg>\n",
       "      </button>\n",
       "      \n",
       "  <style>\n",
       "    .colab-df-container {\n",
       "      display:flex;\n",
       "      flex-wrap:wrap;\n",
       "      gap: 12px;\n",
       "    }\n",
       "\n",
       "    .colab-df-convert {\n",
       "      background-color: #E8F0FE;\n",
       "      border: none;\n",
       "      border-radius: 50%;\n",
       "      cursor: pointer;\n",
       "      display: none;\n",
       "      fill: #1967D2;\n",
       "      height: 32px;\n",
       "      padding: 0 0 0 0;\n",
       "      width: 32px;\n",
       "    }\n",
       "\n",
       "    .colab-df-convert:hover {\n",
       "      background-color: #E2EBFA;\n",
       "      box-shadow: 0px 1px 2px rgba(60, 64, 67, 0.3), 0px 1px 3px 1px rgba(60, 64, 67, 0.15);\n",
       "      fill: #174EA6;\n",
       "    }\n",
       "\n",
       "    [theme=dark] .colab-df-convert {\n",
       "      background-color: #3B4455;\n",
       "      fill: #D2E3FC;\n",
       "    }\n",
       "\n",
       "    [theme=dark] .colab-df-convert:hover {\n",
       "      background-color: #434B5C;\n",
       "      box-shadow: 0px 1px 3px 1px rgba(0, 0, 0, 0.15);\n",
       "      filter: drop-shadow(0px 1px 2px rgba(0, 0, 0, 0.3));\n",
       "      fill: #FFFFFF;\n",
       "    }\n",
       "  </style>\n",
       "\n",
       "      <script>\n",
       "        const buttonEl =\n",
       "          document.querySelector('#df-7090fafd-9303-4175-96a2-62d478a54e82 button.colab-df-convert');\n",
       "        buttonEl.style.display =\n",
       "          google.colab.kernel.accessAllowed ? 'block' : 'none';\n",
       "\n",
       "        async function convertToInteractive(key) {\n",
       "          const element = document.querySelector('#df-7090fafd-9303-4175-96a2-62d478a54e82');\n",
       "          const dataTable =\n",
       "            await google.colab.kernel.invokeFunction('convertToInteractive',\n",
       "                                                     [key], {});\n",
       "          if (!dataTable) return;\n",
       "\n",
       "          const docLinkHtml = 'Like what you see? Visit the ' +\n",
       "            '<a target=\"_blank\" href=https://colab.research.google.com/notebooks/data_table.ipynb>data table notebook</a>'\n",
       "            + ' to learn more about interactive tables.';\n",
       "          element.innerHTML = '';\n",
       "          dataTable['output_type'] = 'display_data';\n",
       "          await google.colab.output.renderOutput(dataTable, element);\n",
       "          const docLink = document.createElement('div');\n",
       "          docLink.innerHTML = docLinkHtml;\n",
       "          element.appendChild(docLink);\n",
       "        }\n",
       "      </script>\n",
       "    </div>\n",
       "  </div>\n",
       "  "
      ],
      "text/plain": [
       "            id  base_date day_of_week  base_hour  lane_count  road_rating  \\\n",
       "0  TEST_000000   20220825           목         17           3          107   \n",
       "1  TEST_000001   20220809           화         12           2          103   \n",
       "2  TEST_000002   20220805           금          2           1          103   \n",
       "3  TEST_000003   20220818           목         23           3          103   \n",
       "4  TEST_000004   20220810           수         17           3          106   \n",
       "\n",
       "  road_name  multi_linked  connect_code  maximum_speed_limit  ...  \\\n",
       "0       연삼로             0             0                 70.0  ...   \n",
       "1  일반국도12호선             0             0                 70.0  ...   \n",
       "2  일반국도16호선             0             0                 60.0  ...   \n",
       "3  일반국도11호선             0             0                 70.0  ...   \n",
       "4       번영로             0             0                 70.0  ...   \n",
       "\n",
       "   height_restricted  road_type  start_node_name  start_latitude  \\\n",
       "0                0.0          0             산지2교       33.499427   \n",
       "1                0.0          3             중문입구       33.258507   \n",
       "2                0.0          0             도순3교       33.258960   \n",
       "3                0.0          0          아라주공아파트       33.473494   \n",
       "4                0.0          0          부록교 시종점       33.501477   \n",
       "\n",
       "  start_longitude  start_turn_restricted  end_node_name end_latitude  \\\n",
       "0      126.541298                     없음        제주은행사거리    33.500772   \n",
       "1      126.427003                     없음         관광단지입구    33.258119   \n",
       "2      126.476508                     없음           도순2교    33.259206   \n",
       "3      126.545647                     없음           인다마을    33.471061   \n",
       "4      126.569223                     없음        봉개교 시종점    33.496863   \n",
       "\n",
       "  end_longitude  end_turn_restricted  \n",
       "0    126.543837                   있음  \n",
       "1    126.415840                   없음  \n",
       "2    126.474687                   없음  \n",
       "3    126.545467                   없음  \n",
       "4    126.581230                   없음  \n",
       "\n",
       "[5 rows x 22 columns]"
      ]
     },
     "execution_count": 54,
     "metadata": {},
     "output_type": "execute_result"
    }
   ],
   "source": [
    "test.head()"
   ]
  },
  {
   "cell_type": "code",
   "execution_count": 55,
   "id": "2263b7ca",
   "metadata": {
    "colab": {
     "base_uri": "https://localhost:8080/"
    },
    "id": "2263b7ca",
    "outputId": "5d9b65da-13e2-4a05-afb9-c4fdaf548e45",
    "scrolled": false
   },
   "outputs": [
    {
     "name": "stdout",
     "output_type": "stream",
     "text": [
      "<class 'pandas.core.frame.DataFrame'>\n",
      "RangeIndex: 1005741 entries, 0 to 1005740\n",
      "Data columns (total 23 columns):\n",
      " #   Column                 Non-Null Count    Dtype  \n",
      "---  ------                 --------------    -----  \n",
      " 0   id                     1005741 non-null  object \n",
      " 1   base_date              1005741 non-null  int64  \n",
      " 2   day_of_week            1005741 non-null  object \n",
      " 3   base_hour              1005741 non-null  int64  \n",
      " 4   lane_count             1005741 non-null  int64  \n",
      " 5   road_rating            1005741 non-null  int64  \n",
      " 6   road_name              1005741 non-null  object \n",
      " 7   multi_linked           1005741 non-null  int64  \n",
      " 8   connect_code           1005741 non-null  int64  \n",
      " 9   maximum_speed_limit    1005741 non-null  float64\n",
      " 10  vehicle_restricted     1005741 non-null  float64\n",
      " 11  weight_restricted      1005741 non-null  float64\n",
      " 12  height_restricted      1005741 non-null  float64\n",
      " 13  road_type              1005741 non-null  int64  \n",
      " 14  start_node_name        1005741 non-null  object \n",
      " 15  start_latitude         1005741 non-null  float64\n",
      " 16  start_longitude        1005741 non-null  float64\n",
      " 17  start_turn_restricted  1005741 non-null  object \n",
      " 18  end_node_name          1005741 non-null  object \n",
      " 19  end_latitude           1005741 non-null  float64\n",
      " 20  end_longitude          1005740 non-null  float64\n",
      " 21  end_turn_restricted    1005740 non-null  object \n",
      " 22  target                 1005740 non-null  float64\n",
      "dtypes: float64(9), int64(7), object(7)\n",
      "memory usage: 176.5+ MB\n"
     ]
    }
   ],
   "source": [
    "train.info()"
   ]
  },
  {
   "cell_type": "code",
   "execution_count": 56,
   "id": "43b33926",
   "metadata": {
    "colab": {
     "base_uri": "https://localhost:8080/"
    },
    "id": "43b33926",
    "outputId": "e0867a1d-c372-4840-9aab-65919d7adf58"
   },
   "outputs": [
    {
     "name": "stdout",
     "output_type": "stream",
     "text": [
      "<class 'pandas.core.frame.DataFrame'>\n",
      "RangeIndex: 291241 entries, 0 to 291240\n",
      "Data columns (total 22 columns):\n",
      " #   Column                 Non-Null Count   Dtype  \n",
      "---  ------                 --------------   -----  \n",
      " 0   id                     291241 non-null  object \n",
      " 1   base_date              291241 non-null  int64  \n",
      " 2   day_of_week            291241 non-null  object \n",
      " 3   base_hour              291241 non-null  int64  \n",
      " 4   lane_count             291241 non-null  int64  \n",
      " 5   road_rating            291241 non-null  int64  \n",
      " 6   road_name              291241 non-null  object \n",
      " 7   multi_linked           291241 non-null  int64  \n",
      " 8   connect_code           291241 non-null  int64  \n",
      " 9   maximum_speed_limit    291241 non-null  float64\n",
      " 10  vehicle_restricted     291241 non-null  float64\n",
      " 11  weight_restricted      291241 non-null  float64\n",
      " 12  height_restricted      291241 non-null  float64\n",
      " 13  road_type              291241 non-null  int64  \n",
      " 14  start_node_name        291241 non-null  object \n",
      " 15  start_latitude         291241 non-null  float64\n",
      " 16  start_longitude        291241 non-null  float64\n",
      " 17  start_turn_restricted  291241 non-null  object \n",
      " 18  end_node_name          291241 non-null  object \n",
      " 19  end_latitude           291241 non-null  float64\n",
      " 20  end_longitude          291241 non-null  float64\n",
      " 21  end_turn_restricted    291241 non-null  object \n",
      "dtypes: float64(8), int64(7), object(7)\n",
      "memory usage: 48.9+ MB\n"
     ]
    }
   ],
   "source": [
    "test.info()"
   ]
  },
  {
   "cell_type": "code",
   "execution_count": 57,
   "id": "c90192de",
   "metadata": {
    "colab": {
     "base_uri": "https://localhost:8080/"
    },
    "id": "c90192de",
    "outputId": "1dc9e736-a716-4267-d132-4d322734b968"
   },
   "outputs": [
    {
     "data": {
      "text/plain": [
       "id                       0\n",
       "base_date                0\n",
       "day_of_week              0\n",
       "base_hour                0\n",
       "lane_count               0\n",
       "road_rating              0\n",
       "road_name                0\n",
       "multi_linked             0\n",
       "connect_code             0\n",
       "maximum_speed_limit      0\n",
       "vehicle_restricted       0\n",
       "weight_restricted        0\n",
       "height_restricted        0\n",
       "road_type                0\n",
       "start_node_name          0\n",
       "start_latitude           0\n",
       "start_longitude          0\n",
       "start_turn_restricted    0\n",
       "end_node_name            0\n",
       "end_latitude             0\n",
       "end_longitude            1\n",
       "end_turn_restricted      1\n",
       "target                   1\n",
       "dtype: int64"
      ]
     },
     "execution_count": 57,
     "metadata": {},
     "output_type": "execute_result"
    }
   ],
   "source": [
    "train.isnull().sum()"
   ]
  },
  {
   "cell_type": "code",
   "execution_count": 58,
   "id": "0b005342",
   "metadata": {
    "colab": {
     "base_uri": "https://localhost:8080/"
    },
    "id": "0b005342",
    "outputId": "a40d37c8-3995-48d2-979e-393ea41a9e9d"
   },
   "outputs": [
    {
     "data": {
      "text/plain": [
       "id                       0\n",
       "base_date                0\n",
       "day_of_week              0\n",
       "base_hour                0\n",
       "lane_count               0\n",
       "road_rating              0\n",
       "road_name                0\n",
       "multi_linked             0\n",
       "connect_code             0\n",
       "maximum_speed_limit      0\n",
       "vehicle_restricted       0\n",
       "weight_restricted        0\n",
       "height_restricted        0\n",
       "road_type                0\n",
       "start_node_name          0\n",
       "start_latitude           0\n",
       "start_longitude          0\n",
       "start_turn_restricted    0\n",
       "end_node_name            0\n",
       "end_latitude             0\n",
       "end_longitude            0\n",
       "end_turn_restricted      0\n",
       "dtype: int64"
      ]
     },
     "execution_count": 58,
     "metadata": {},
     "output_type": "execute_result"
    }
   ],
   "source": [
    "test.isnull().sum()"
   ]
  },
  {
   "cell_type": "code",
   "execution_count": 59,
   "id": "573efa91",
   "metadata": {
    "colab": {
     "base_uri": "https://localhost:8080/",
     "height": 364
    },
    "id": "573efa91",
    "outputId": "347f6ecc-f9c5-43e2-c7b5-d1a4da2b389f",
    "scrolled": true
   },
   "outputs": [
    {
     "data": {
      "text/html": [
       "\n",
       "  <div id=\"df-b9b9a7fd-92a7-4b1a-a8d2-02d291a93e4b\">\n",
       "    <div class=\"colab-df-container\">\n",
       "      <div>\n",
       "<style scoped>\n",
       "    .dataframe tbody tr th:only-of-type {\n",
       "        vertical-align: middle;\n",
       "    }\n",
       "\n",
       "    .dataframe tbody tr th {\n",
       "        vertical-align: top;\n",
       "    }\n",
       "\n",
       "    .dataframe thead th {\n",
       "        text-align: right;\n",
       "    }\n",
       "</style>\n",
       "<table border=\"1\" class=\"dataframe\">\n",
       "  <thead>\n",
       "    <tr style=\"text-align: right;\">\n",
       "      <th></th>\n",
       "      <th>base_date</th>\n",
       "      <th>base_hour</th>\n",
       "      <th>lane_count</th>\n",
       "      <th>road_rating</th>\n",
       "      <th>multi_linked</th>\n",
       "      <th>connect_code</th>\n",
       "      <th>maximum_speed_limit</th>\n",
       "      <th>vehicle_restricted</th>\n",
       "      <th>weight_restricted</th>\n",
       "      <th>height_restricted</th>\n",
       "      <th>road_type</th>\n",
       "      <th>start_latitude</th>\n",
       "      <th>start_longitude</th>\n",
       "      <th>end_latitude</th>\n",
       "      <th>end_longitude</th>\n",
       "      <th>target</th>\n",
       "    </tr>\n",
       "  </thead>\n",
       "  <tbody>\n",
       "    <tr>\n",
       "      <th>count</th>\n",
       "      <td>1.005741e+06</td>\n",
       "      <td>1.005741e+06</td>\n",
       "      <td>1.005741e+06</td>\n",
       "      <td>1.005741e+06</td>\n",
       "      <td>1.005741e+06</td>\n",
       "      <td>1.005741e+06</td>\n",
       "      <td>1.005741e+06</td>\n",
       "      <td>1005741.0</td>\n",
       "      <td>1.005741e+06</td>\n",
       "      <td>1005741.0</td>\n",
       "      <td>1.005741e+06</td>\n",
       "      <td>1.005741e+06</td>\n",
       "      <td>1.005741e+06</td>\n",
       "      <td>1.005741e+06</td>\n",
       "      <td>1.005740e+06</td>\n",
       "      <td>1.005740e+06</td>\n",
       "    </tr>\n",
       "    <tr>\n",
       "      <th>mean</th>\n",
       "      <td>2.021671e+07</td>\n",
       "      <td>1.192897e+01</td>\n",
       "      <td>1.835450e+00</td>\n",
       "      <td>1.049574e+02</td>\n",
       "      <td>5.120603e-04</td>\n",
       "      <td>2.593073e-01</td>\n",
       "      <td>6.126011e+01</td>\n",
       "      <td>0.0</td>\n",
       "      <td>5.639719e+03</td>\n",
       "      <td>0.0</td>\n",
       "      <td>6.169720e-01</td>\n",
       "      <td>3.338436e+01</td>\n",
       "      <td>1.265216e+02</td>\n",
       "      <td>3.338433e+01</td>\n",
       "      <td>1.265216e+02</td>\n",
       "      <td>4.281328e+01</td>\n",
       "    </tr>\n",
       "    <tr>\n",
       "      <th>std</th>\n",
       "      <td>4.556375e+03</td>\n",
       "      <td>6.719416e+00</td>\n",
       "      <td>6.874229e-01</td>\n",
       "      <td>1.840272e+00</td>\n",
       "      <td>2.262297e-02</td>\n",
       "      <td>5.161535e+00</td>\n",
       "      <td>1.213331e+01</td>\n",
       "      <td>0.0</td>\n",
       "      <td>1.397408e+04</td>\n",
       "      <td>0.0</td>\n",
       "      <td>1.212544e+00</td>\n",
       "      <td>1.011813e-01</td>\n",
       "      <td>1.564622e-01</td>\n",
       "      <td>1.056105e-01</td>\n",
       "      <td>1.564396e-01</td>\n",
       "      <td>1.595590e+01</td>\n",
       "    </tr>\n",
       "    <tr>\n",
       "      <th>min</th>\n",
       "      <td>2.021090e+07</td>\n",
       "      <td>0.000000e+00</td>\n",
       "      <td>1.000000e+00</td>\n",
       "      <td>1.030000e+02</td>\n",
       "      <td>0.000000e+00</td>\n",
       "      <td>0.000000e+00</td>\n",
       "      <td>3.000000e+01</td>\n",
       "      <td>0.0</td>\n",
       "      <td>0.000000e+00</td>\n",
       "      <td>0.0</td>\n",
       "      <td>0.000000e+00</td>\n",
       "      <td>3.324343e+01</td>\n",
       "      <td>1.261826e+02</td>\n",
       "      <td>3.000000e+00</td>\n",
       "      <td>1.261826e+02</td>\n",
       "      <td>1.000000e+00</td>\n",
       "    </tr>\n",
       "    <tr>\n",
       "      <th>25%</th>\n",
       "      <td>2.021110e+07</td>\n",
       "      <td>6.000000e+00</td>\n",
       "      <td>1.000000e+00</td>\n",
       "      <td>1.030000e+02</td>\n",
       "      <td>0.000000e+00</td>\n",
       "      <td>0.000000e+00</td>\n",
       "      <td>5.000000e+01</td>\n",
       "      <td>0.0</td>\n",
       "      <td>0.000000e+00</td>\n",
       "      <td>0.0</td>\n",
       "      <td>0.000000e+00</td>\n",
       "      <td>3.326422e+01</td>\n",
       "      <td>1.264220e+02</td>\n",
       "      <td>3.326459e+01</td>\n",
       "      <td>1.264220e+02</td>\n",
       "      <td>3.000000e+01</td>\n",
       "    </tr>\n",
       "    <tr>\n",
       "      <th>50%</th>\n",
       "      <td>2.022013e+07</td>\n",
       "      <td>1.200000e+01</td>\n",
       "      <td>2.000000e+00</td>\n",
       "      <td>1.060000e+02</td>\n",
       "      <td>0.000000e+00</td>\n",
       "      <td>0.000000e+00</td>\n",
       "      <td>6.000000e+01</td>\n",
       "      <td>0.0</td>\n",
       "      <td>0.000000e+00</td>\n",
       "      <td>0.0</td>\n",
       "      <td>0.000000e+00</td>\n",
       "      <td>3.341257e+01</td>\n",
       "      <td>1.265112e+02</td>\n",
       "      <td>3.341257e+01</td>\n",
       "      <td>1.265112e+02</td>\n",
       "      <td>4.300000e+01</td>\n",
       "    </tr>\n",
       "    <tr>\n",
       "      <th>75%</th>\n",
       "      <td>2.022050e+07</td>\n",
       "      <td>1.800000e+01</td>\n",
       "      <td>2.000000e+00</td>\n",
       "      <td>1.070000e+02</td>\n",
       "      <td>0.000000e+00</td>\n",
       "      <td>0.000000e+00</td>\n",
       "      <td>7.000000e+01</td>\n",
       "      <td>0.0</td>\n",
       "      <td>0.000000e+00</td>\n",
       "      <td>0.0</td>\n",
       "      <td>0.000000e+00</td>\n",
       "      <td>3.347804e+01</td>\n",
       "      <td>1.265840e+02</td>\n",
       "      <td>3.347804e+01</td>\n",
       "      <td>1.265840e+02</td>\n",
       "      <td>5.400000e+01</td>\n",
       "    </tr>\n",
       "    <tr>\n",
       "      <th>max</th>\n",
       "      <td>2.022073e+07</td>\n",
       "      <td>2.300000e+01</td>\n",
       "      <td>3.000000e+00</td>\n",
       "      <td>1.070000e+02</td>\n",
       "      <td>1.000000e+00</td>\n",
       "      <td>1.030000e+02</td>\n",
       "      <td>8.000000e+01</td>\n",
       "      <td>0.0</td>\n",
       "      <td>5.000000e+04</td>\n",
       "      <td>0.0</td>\n",
       "      <td>3.000000e+00</td>\n",
       "      <td>3.355608e+01</td>\n",
       "      <td>1.269309e+02</td>\n",
       "      <td>3.355608e+01</td>\n",
       "      <td>1.269309e+02</td>\n",
       "      <td>1.120000e+02</td>\n",
       "    </tr>\n",
       "  </tbody>\n",
       "</table>\n",
       "</div>\n",
       "      <button class=\"colab-df-convert\" onclick=\"convertToInteractive('df-b9b9a7fd-92a7-4b1a-a8d2-02d291a93e4b')\"\n",
       "              title=\"Convert this dataframe to an interactive table.\"\n",
       "              style=\"display:none;\">\n",
       "        \n",
       "  <svg xmlns=\"http://www.w3.org/2000/svg\" height=\"24px\"viewBox=\"0 0 24 24\"\n",
       "       width=\"24px\">\n",
       "    <path d=\"M0 0h24v24H0V0z\" fill=\"none\"/>\n",
       "    <path d=\"M18.56 5.44l.94 2.06.94-2.06 2.06-.94-2.06-.94-.94-2.06-.94 2.06-2.06.94zm-11 1L8.5 8.5l.94-2.06 2.06-.94-2.06-.94L8.5 2.5l-.94 2.06-2.06.94zm10 10l.94 2.06.94-2.06 2.06-.94-2.06-.94-.94-2.06-.94 2.06-2.06.94z\"/><path d=\"M17.41 7.96l-1.37-1.37c-.4-.4-.92-.59-1.43-.59-.52 0-1.04.2-1.43.59L10.3 9.45l-7.72 7.72c-.78.78-.78 2.05 0 2.83L4 21.41c.39.39.9.59 1.41.59.51 0 1.02-.2 1.41-.59l7.78-7.78 2.81-2.81c.8-.78.8-2.07 0-2.86zM5.41 20L4 18.59l7.72-7.72 1.47 1.35L5.41 20z\"/>\n",
       "  </svg>\n",
       "      </button>\n",
       "      \n",
       "  <style>\n",
       "    .colab-df-container {\n",
       "      display:flex;\n",
       "      flex-wrap:wrap;\n",
       "      gap: 12px;\n",
       "    }\n",
       "\n",
       "    .colab-df-convert {\n",
       "      background-color: #E8F0FE;\n",
       "      border: none;\n",
       "      border-radius: 50%;\n",
       "      cursor: pointer;\n",
       "      display: none;\n",
       "      fill: #1967D2;\n",
       "      height: 32px;\n",
       "      padding: 0 0 0 0;\n",
       "      width: 32px;\n",
       "    }\n",
       "\n",
       "    .colab-df-convert:hover {\n",
       "      background-color: #E2EBFA;\n",
       "      box-shadow: 0px 1px 2px rgba(60, 64, 67, 0.3), 0px 1px 3px 1px rgba(60, 64, 67, 0.15);\n",
       "      fill: #174EA6;\n",
       "    }\n",
       "\n",
       "    [theme=dark] .colab-df-convert {\n",
       "      background-color: #3B4455;\n",
       "      fill: #D2E3FC;\n",
       "    }\n",
       "\n",
       "    [theme=dark] .colab-df-convert:hover {\n",
       "      background-color: #434B5C;\n",
       "      box-shadow: 0px 1px 3px 1px rgba(0, 0, 0, 0.15);\n",
       "      filter: drop-shadow(0px 1px 2px rgba(0, 0, 0, 0.3));\n",
       "      fill: #FFFFFF;\n",
       "    }\n",
       "  </style>\n",
       "\n",
       "      <script>\n",
       "        const buttonEl =\n",
       "          document.querySelector('#df-b9b9a7fd-92a7-4b1a-a8d2-02d291a93e4b button.colab-df-convert');\n",
       "        buttonEl.style.display =\n",
       "          google.colab.kernel.accessAllowed ? 'block' : 'none';\n",
       "\n",
       "        async function convertToInteractive(key) {\n",
       "          const element = document.querySelector('#df-b9b9a7fd-92a7-4b1a-a8d2-02d291a93e4b');\n",
       "          const dataTable =\n",
       "            await google.colab.kernel.invokeFunction('convertToInteractive',\n",
       "                                                     [key], {});\n",
       "          if (!dataTable) return;\n",
       "\n",
       "          const docLinkHtml = 'Like what you see? Visit the ' +\n",
       "            '<a target=\"_blank\" href=https://colab.research.google.com/notebooks/data_table.ipynb>data table notebook</a>'\n",
       "            + ' to learn more about interactive tables.';\n",
       "          element.innerHTML = '';\n",
       "          dataTable['output_type'] = 'display_data';\n",
       "          await google.colab.output.renderOutput(dataTable, element);\n",
       "          const docLink = document.createElement('div');\n",
       "          docLink.innerHTML = docLinkHtml;\n",
       "          element.appendChild(docLink);\n",
       "        }\n",
       "      </script>\n",
       "    </div>\n",
       "  </div>\n",
       "  "
      ],
      "text/plain": [
       "          base_date     base_hour    lane_count   road_rating  multi_linked  \\\n",
       "count  1.005741e+06  1.005741e+06  1.005741e+06  1.005741e+06  1.005741e+06   \n",
       "mean   2.021671e+07  1.192897e+01  1.835450e+00  1.049574e+02  5.120603e-04   \n",
       "std    4.556375e+03  6.719416e+00  6.874229e-01  1.840272e+00  2.262297e-02   \n",
       "min    2.021090e+07  0.000000e+00  1.000000e+00  1.030000e+02  0.000000e+00   \n",
       "25%    2.021110e+07  6.000000e+00  1.000000e+00  1.030000e+02  0.000000e+00   \n",
       "50%    2.022013e+07  1.200000e+01  2.000000e+00  1.060000e+02  0.000000e+00   \n",
       "75%    2.022050e+07  1.800000e+01  2.000000e+00  1.070000e+02  0.000000e+00   \n",
       "max    2.022073e+07  2.300000e+01  3.000000e+00  1.070000e+02  1.000000e+00   \n",
       "\n",
       "       connect_code  maximum_speed_limit  vehicle_restricted  \\\n",
       "count  1.005741e+06         1.005741e+06           1005741.0   \n",
       "mean   2.593073e-01         6.126011e+01                 0.0   \n",
       "std    5.161535e+00         1.213331e+01                 0.0   \n",
       "min    0.000000e+00         3.000000e+01                 0.0   \n",
       "25%    0.000000e+00         5.000000e+01                 0.0   \n",
       "50%    0.000000e+00         6.000000e+01                 0.0   \n",
       "75%    0.000000e+00         7.000000e+01                 0.0   \n",
       "max    1.030000e+02         8.000000e+01                 0.0   \n",
       "\n",
       "       weight_restricted  height_restricted     road_type  start_latitude  \\\n",
       "count       1.005741e+06          1005741.0  1.005741e+06    1.005741e+06   \n",
       "mean        5.639719e+03                0.0  6.169720e-01    3.338436e+01   \n",
       "std         1.397408e+04                0.0  1.212544e+00    1.011813e-01   \n",
       "min         0.000000e+00                0.0  0.000000e+00    3.324343e+01   \n",
       "25%         0.000000e+00                0.0  0.000000e+00    3.326422e+01   \n",
       "50%         0.000000e+00                0.0  0.000000e+00    3.341257e+01   \n",
       "75%         0.000000e+00                0.0  0.000000e+00    3.347804e+01   \n",
       "max         5.000000e+04                0.0  3.000000e+00    3.355608e+01   \n",
       "\n",
       "       start_longitude  end_latitude  end_longitude        target  \n",
       "count     1.005741e+06  1.005741e+06   1.005740e+06  1.005740e+06  \n",
       "mean      1.265216e+02  3.338433e+01   1.265216e+02  4.281328e+01  \n",
       "std       1.564622e-01  1.056105e-01   1.564396e-01  1.595590e+01  \n",
       "min       1.261826e+02  3.000000e+00   1.261826e+02  1.000000e+00  \n",
       "25%       1.264220e+02  3.326459e+01   1.264220e+02  3.000000e+01  \n",
       "50%       1.265112e+02  3.341257e+01   1.265112e+02  4.300000e+01  \n",
       "75%       1.265840e+02  3.347804e+01   1.265840e+02  5.400000e+01  \n",
       "max       1.269309e+02  3.355608e+01   1.269309e+02  1.120000e+02  "
      ]
     },
     "execution_count": 59,
     "metadata": {},
     "output_type": "execute_result"
    }
   ],
   "source": [
    "train.describe()"
   ]
  },
  {
   "cell_type": "code",
   "execution_count": 60,
   "id": "ae09cbd2",
   "metadata": {
    "colab": {
     "base_uri": "https://localhost:8080/",
     "height": 364
    },
    "id": "ae09cbd2",
    "outputId": "a14f1dbb-af94-47b1-ba22-a707424c090e",
    "scrolled": true
   },
   "outputs": [
    {
     "data": {
      "text/html": [
       "\n",
       "  <div id=\"df-10c7b3b9-06fb-4d42-bc4f-f582ecb3f3b5\">\n",
       "    <div class=\"colab-df-container\">\n",
       "      <div>\n",
       "<style scoped>\n",
       "    .dataframe tbody tr th:only-of-type {\n",
       "        vertical-align: middle;\n",
       "    }\n",
       "\n",
       "    .dataframe tbody tr th {\n",
       "        vertical-align: top;\n",
       "    }\n",
       "\n",
       "    .dataframe thead th {\n",
       "        text-align: right;\n",
       "    }\n",
       "</style>\n",
       "<table border=\"1\" class=\"dataframe\">\n",
       "  <thead>\n",
       "    <tr style=\"text-align: right;\">\n",
       "      <th></th>\n",
       "      <th>base_date</th>\n",
       "      <th>base_hour</th>\n",
       "      <th>lane_count</th>\n",
       "      <th>road_rating</th>\n",
       "      <th>multi_linked</th>\n",
       "      <th>connect_code</th>\n",
       "      <th>maximum_speed_limit</th>\n",
       "      <th>vehicle_restricted</th>\n",
       "      <th>weight_restricted</th>\n",
       "      <th>height_restricted</th>\n",
       "      <th>road_type</th>\n",
       "      <th>start_latitude</th>\n",
       "      <th>start_longitude</th>\n",
       "      <th>end_latitude</th>\n",
       "      <th>end_longitude</th>\n",
       "    </tr>\n",
       "  </thead>\n",
       "  <tbody>\n",
       "    <tr>\n",
       "      <th>count</th>\n",
       "      <td>2.912410e+05</td>\n",
       "      <td>291241.000000</td>\n",
       "      <td>291241.000000</td>\n",
       "      <td>291241.000000</td>\n",
       "      <td>291241.0</td>\n",
       "      <td>291241.0</td>\n",
       "      <td>291241.000000</td>\n",
       "      <td>291241.0</td>\n",
       "      <td>291241.000000</td>\n",
       "      <td>291241.0</td>\n",
       "      <td>291241.000000</td>\n",
       "      <td>291241.000000</td>\n",
       "      <td>291241.000000</td>\n",
       "      <td>291241.000000</td>\n",
       "      <td>291241.000000</td>\n",
       "    </tr>\n",
       "    <tr>\n",
       "      <th>mean</th>\n",
       "      <td>2.022082e+07</td>\n",
       "      <td>11.856854</td>\n",
       "      <td>2.021371</td>\n",
       "      <td>105.245948</td>\n",
       "      <td>0.0</td>\n",
       "      <td>0.0</td>\n",
       "      <td>58.771430</td>\n",
       "      <td>0.0</td>\n",
       "      <td>3651.902033</td>\n",
       "      <td>0.0</td>\n",
       "      <td>0.634845</td>\n",
       "      <td>33.361624</td>\n",
       "      <td>126.512946</td>\n",
       "      <td>33.361651</td>\n",
       "      <td>126.512919</td>\n",
       "    </tr>\n",
       "    <tr>\n",
       "      <th>std</th>\n",
       "      <td>8.886111e+00</td>\n",
       "      <td>6.803378</td>\n",
       "      <td>0.750898</td>\n",
       "      <td>1.862653</td>\n",
       "      <td>0.0</td>\n",
       "      <td>0.0</td>\n",
       "      <td>11.390743</td>\n",
       "      <td>0.0</td>\n",
       "      <td>11327.618389</td>\n",
       "      <td>0.0</td>\n",
       "      <td>1.225362</td>\n",
       "      <td>0.116064</td>\n",
       "      <td>0.061478</td>\n",
       "      <td>0.116067</td>\n",
       "      <td>0.061344</td>\n",
       "    </tr>\n",
       "    <tr>\n",
       "      <th>min</th>\n",
       "      <td>2.022080e+07</td>\n",
       "      <td>0.000000</td>\n",
       "      <td>1.000000</td>\n",
       "      <td>103.000000</td>\n",
       "      <td>0.0</td>\n",
       "      <td>0.0</td>\n",
       "      <td>30.000000</td>\n",
       "      <td>0.0</td>\n",
       "      <td>0.000000</td>\n",
       "      <td>0.0</td>\n",
       "      <td>0.000000</td>\n",
       "      <td>33.243432</td>\n",
       "      <td>126.303780</td>\n",
       "      <td>33.243432</td>\n",
       "      <td>126.303780</td>\n",
       "    </tr>\n",
       "    <tr>\n",
       "      <th>25%</th>\n",
       "      <td>2.022081e+07</td>\n",
       "      <td>6.000000</td>\n",
       "      <td>1.000000</td>\n",
       "      <td>103.000000</td>\n",
       "      <td>0.0</td>\n",
       "      <td>0.0</td>\n",
       "      <td>50.000000</td>\n",
       "      <td>0.0</td>\n",
       "      <td>0.000000</td>\n",
       "      <td>0.0</td>\n",
       "      <td>0.000000</td>\n",
       "      <td>33.254214</td>\n",
       "      <td>126.476508</td>\n",
       "      <td>33.254214</td>\n",
       "      <td>126.476508</td>\n",
       "    </tr>\n",
       "    <tr>\n",
       "      <th>50%</th>\n",
       "      <td>2.022082e+07</td>\n",
       "      <td>12.000000</td>\n",
       "      <td>2.000000</td>\n",
       "      <td>106.000000</td>\n",
       "      <td>0.0</td>\n",
       "      <td>0.0</td>\n",
       "      <td>60.000000</td>\n",
       "      <td>0.0</td>\n",
       "      <td>0.000000</td>\n",
       "      <td>0.0</td>\n",
       "      <td>0.000000</td>\n",
       "      <td>33.272222</td>\n",
       "      <td>126.512046</td>\n",
       "      <td>33.272222</td>\n",
       "      <td>126.512046</td>\n",
       "    </tr>\n",
       "    <tr>\n",
       "      <th>75%</th>\n",
       "      <td>2.022082e+07</td>\n",
       "      <td>18.000000</td>\n",
       "      <td>3.000000</td>\n",
       "      <td>107.000000</td>\n",
       "      <td>0.0</td>\n",
       "      <td>0.0</td>\n",
       "      <td>70.000000</td>\n",
       "      <td>0.0</td>\n",
       "      <td>0.000000</td>\n",
       "      <td>0.0</td>\n",
       "      <td>0.000000</td>\n",
       "      <td>33.492718</td>\n",
       "      <td>126.561830</td>\n",
       "      <td>33.492718</td>\n",
       "      <td>126.561830</td>\n",
       "    </tr>\n",
       "    <tr>\n",
       "      <th>max</th>\n",
       "      <td>2.022083e+07</td>\n",
       "      <td>23.000000</td>\n",
       "      <td>3.000000</td>\n",
       "      <td>107.000000</td>\n",
       "      <td>0.0</td>\n",
       "      <td>0.0</td>\n",
       "      <td>80.000000</td>\n",
       "      <td>0.0</td>\n",
       "      <td>50000.000000</td>\n",
       "      <td>0.0</td>\n",
       "      <td>3.000000</td>\n",
       "      <td>33.521399</td>\n",
       "      <td>126.912948</td>\n",
       "      <td>33.521399</td>\n",
       "      <td>126.912948</td>\n",
       "    </tr>\n",
       "  </tbody>\n",
       "</table>\n",
       "</div>\n",
       "      <button class=\"colab-df-convert\" onclick=\"convertToInteractive('df-10c7b3b9-06fb-4d42-bc4f-f582ecb3f3b5')\"\n",
       "              title=\"Convert this dataframe to an interactive table.\"\n",
       "              style=\"display:none;\">\n",
       "        \n",
       "  <svg xmlns=\"http://www.w3.org/2000/svg\" height=\"24px\"viewBox=\"0 0 24 24\"\n",
       "       width=\"24px\">\n",
       "    <path d=\"M0 0h24v24H0V0z\" fill=\"none\"/>\n",
       "    <path d=\"M18.56 5.44l.94 2.06.94-2.06 2.06-.94-2.06-.94-.94-2.06-.94 2.06-2.06.94zm-11 1L8.5 8.5l.94-2.06 2.06-.94-2.06-.94L8.5 2.5l-.94 2.06-2.06.94zm10 10l.94 2.06.94-2.06 2.06-.94-2.06-.94-.94-2.06-.94 2.06-2.06.94z\"/><path d=\"M17.41 7.96l-1.37-1.37c-.4-.4-.92-.59-1.43-.59-.52 0-1.04.2-1.43.59L10.3 9.45l-7.72 7.72c-.78.78-.78 2.05 0 2.83L4 21.41c.39.39.9.59 1.41.59.51 0 1.02-.2 1.41-.59l7.78-7.78 2.81-2.81c.8-.78.8-2.07 0-2.86zM5.41 20L4 18.59l7.72-7.72 1.47 1.35L5.41 20z\"/>\n",
       "  </svg>\n",
       "      </button>\n",
       "      \n",
       "  <style>\n",
       "    .colab-df-container {\n",
       "      display:flex;\n",
       "      flex-wrap:wrap;\n",
       "      gap: 12px;\n",
       "    }\n",
       "\n",
       "    .colab-df-convert {\n",
       "      background-color: #E8F0FE;\n",
       "      border: none;\n",
       "      border-radius: 50%;\n",
       "      cursor: pointer;\n",
       "      display: none;\n",
       "      fill: #1967D2;\n",
       "      height: 32px;\n",
       "      padding: 0 0 0 0;\n",
       "      width: 32px;\n",
       "    }\n",
       "\n",
       "    .colab-df-convert:hover {\n",
       "      background-color: #E2EBFA;\n",
       "      box-shadow: 0px 1px 2px rgba(60, 64, 67, 0.3), 0px 1px 3px 1px rgba(60, 64, 67, 0.15);\n",
       "      fill: #174EA6;\n",
       "    }\n",
       "\n",
       "    [theme=dark] .colab-df-convert {\n",
       "      background-color: #3B4455;\n",
       "      fill: #D2E3FC;\n",
       "    }\n",
       "\n",
       "    [theme=dark] .colab-df-convert:hover {\n",
       "      background-color: #434B5C;\n",
       "      box-shadow: 0px 1px 3px 1px rgba(0, 0, 0, 0.15);\n",
       "      filter: drop-shadow(0px 1px 2px rgba(0, 0, 0, 0.3));\n",
       "      fill: #FFFFFF;\n",
       "    }\n",
       "  </style>\n",
       "\n",
       "      <script>\n",
       "        const buttonEl =\n",
       "          document.querySelector('#df-10c7b3b9-06fb-4d42-bc4f-f582ecb3f3b5 button.colab-df-convert');\n",
       "        buttonEl.style.display =\n",
       "          google.colab.kernel.accessAllowed ? 'block' : 'none';\n",
       "\n",
       "        async function convertToInteractive(key) {\n",
       "          const element = document.querySelector('#df-10c7b3b9-06fb-4d42-bc4f-f582ecb3f3b5');\n",
       "          const dataTable =\n",
       "            await google.colab.kernel.invokeFunction('convertToInteractive',\n",
       "                                                     [key], {});\n",
       "          if (!dataTable) return;\n",
       "\n",
       "          const docLinkHtml = 'Like what you see? Visit the ' +\n",
       "            '<a target=\"_blank\" href=https://colab.research.google.com/notebooks/data_table.ipynb>data table notebook</a>'\n",
       "            + ' to learn more about interactive tables.';\n",
       "          element.innerHTML = '';\n",
       "          dataTable['output_type'] = 'display_data';\n",
       "          await google.colab.output.renderOutput(dataTable, element);\n",
       "          const docLink = document.createElement('div');\n",
       "          docLink.innerHTML = docLinkHtml;\n",
       "          element.appendChild(docLink);\n",
       "        }\n",
       "      </script>\n",
       "    </div>\n",
       "  </div>\n",
       "  "
      ],
      "text/plain": [
       "          base_date      base_hour     lane_count    road_rating  \\\n",
       "count  2.912410e+05  291241.000000  291241.000000  291241.000000   \n",
       "mean   2.022082e+07      11.856854       2.021371     105.245948   \n",
       "std    8.886111e+00       6.803378       0.750898       1.862653   \n",
       "min    2.022080e+07       0.000000       1.000000     103.000000   \n",
       "25%    2.022081e+07       6.000000       1.000000     103.000000   \n",
       "50%    2.022082e+07      12.000000       2.000000     106.000000   \n",
       "75%    2.022082e+07      18.000000       3.000000     107.000000   \n",
       "max    2.022083e+07      23.000000       3.000000     107.000000   \n",
       "\n",
       "       multi_linked  connect_code  maximum_speed_limit  vehicle_restricted  \\\n",
       "count      291241.0      291241.0        291241.000000            291241.0   \n",
       "mean            0.0           0.0            58.771430                 0.0   \n",
       "std             0.0           0.0            11.390743                 0.0   \n",
       "min             0.0           0.0            30.000000                 0.0   \n",
       "25%             0.0           0.0            50.000000                 0.0   \n",
       "50%             0.0           0.0            60.000000                 0.0   \n",
       "75%             0.0           0.0            70.000000                 0.0   \n",
       "max             0.0           0.0            80.000000                 0.0   \n",
       "\n",
       "       weight_restricted  height_restricted      road_type  start_latitude  \\\n",
       "count      291241.000000           291241.0  291241.000000   291241.000000   \n",
       "mean         3651.902033                0.0       0.634845       33.361624   \n",
       "std         11327.618389                0.0       1.225362        0.116064   \n",
       "min             0.000000                0.0       0.000000       33.243432   \n",
       "25%             0.000000                0.0       0.000000       33.254214   \n",
       "50%             0.000000                0.0       0.000000       33.272222   \n",
       "75%             0.000000                0.0       0.000000       33.492718   \n",
       "max         50000.000000                0.0       3.000000       33.521399   \n",
       "\n",
       "       start_longitude   end_latitude  end_longitude  \n",
       "count    291241.000000  291241.000000  291241.000000  \n",
       "mean        126.512946      33.361651     126.512919  \n",
       "std           0.061478       0.116067       0.061344  \n",
       "min         126.303780      33.243432     126.303780  \n",
       "25%         126.476508      33.254214     126.476508  \n",
       "50%         126.512046      33.272222     126.512046  \n",
       "75%         126.561830      33.492718     126.561830  \n",
       "max         126.912948      33.521399     126.912948  "
      ]
     },
     "execution_count": 60,
     "metadata": {},
     "output_type": "execute_result"
    }
   ],
   "source": [
    "test.describe()"
   ]
  },
  {
   "cell_type": "markdown",
   "id": "843880b2",
   "metadata": {
    "id": "843880b2"
   },
   "source": [
    "- 각 피처들 하나씩살펴보기"
   ]
  },
  {
   "cell_type": "markdown",
   "id": "b367a81a",
   "metadata": {
    "id": "b367a81a"
   },
   "source": [
    "##### 1. base_hour 시간대"
   ]
  },
  {
   "cell_type": "code",
   "execution_count": 61,
   "id": "8cce2938",
   "metadata": {
    "colab": {
     "base_uri": "https://localhost:8080/"
    },
    "id": "8cce2938",
    "outputId": "2769fad2-16b6-4709-9306-8e373a368d2c"
   },
   "outputs": [
    {
     "data": {
      "text/plain": [
       "13    46210\n",
       "15    46074\n",
       "14    45392\n",
       "12    45365\n",
       "19    45047\n",
       "11    44632\n",
       "18    44576\n",
       "16    44470\n",
       "10    44336\n",
       "17    44251\n",
       "20    43834\n",
       "9     43818\n",
       "21    43739\n",
       "8     43250\n",
       "22    42862\n",
       "7     42564\n",
       "6     40596\n",
       "23    39238\n",
       "1     38942\n",
       "5     38938\n",
       "2     36009\n",
       "4     35209\n",
       "3     33458\n",
       "0     32931\n",
       "Name: base_hour, dtype: int64"
      ]
     },
     "execution_count": 61,
     "metadata": {},
     "output_type": "execute_result"
    }
   ],
   "source": [
    "train['base_hour'].value_counts()"
   ]
  },
  {
   "cell_type": "code",
   "execution_count": 62,
   "id": "69f22cf6",
   "metadata": {
    "colab": {
     "base_uri": "https://localhost:8080/",
     "height": 468
    },
    "id": "69f22cf6",
    "outputId": "2ed693ab-faf3-4446-a121-9ebaa7deb167"
   },
   "outputs": [
    {
     "name": "stdout",
     "output_type": "stream",
     "text": [
      "Axes(0.125,0.11;0.775x0.77)\n"
     ]
    },
    {
     "data": {
      "image/png": "[encoded data removed]",
      "text/plain": [
       "<Figure size 640x480 with 1 Axes>"
      ]
     },
     "metadata": {},
     "output_type": "display_data"
    }
   ],
   "source": [
    "import seaborn as sns\n",
    "base_hour = train.groupby('base_hour')['target'].mean()\n",
    "print(sns.barplot(x=base_hour.index, y=base_hour.values ))"
   ]
  },
  {
   "cell_type": "markdown",
   "id": "1bbf3ecc",
   "metadata": {
    "id": "1bbf3ecc"
   },
   "source": [
    "- 0~5시가 가장 평균 속도가 높음(차량 수 상대적으로 ↓)\n",
    "\n",
    "\n",
    "- 17~18시가 평균 속도 가장 낮음(차량 수 상대적으로 ↑)"
   ]
  },
  {
   "cell_type": "markdown",
   "id": "3ee85cad",
   "metadata": {
    "id": "3ee85cad"
   },
   "source": [
    "##### 2. lane_count 차로 수"
   ]
  },
  {
   "cell_type": "code",
   "execution_count": 63,
   "id": "9a6d6494",
   "metadata": {
    "colab": {
     "base_uri": "https://localhost:8080/"
    },
    "id": "9a6d6494",
    "outputId": "449d6d58-44a4-4178-f9a7-2333b001a1f2"
   },
   "outputs": [
    {
     "data": {
      "text/plain": [
       "2    503246\n",
       "1    333995\n",
       "3    168500\n",
       "Name: lane_count, dtype: int64"
      ]
     },
     "execution_count": 63,
     "metadata": {},
     "output_type": "execute_result"
    }
   ],
   "source": [
    "train['lane_count'].value_counts()"
   ]
  },
  {
   "cell_type": "code",
   "execution_count": 64,
   "id": "8b2901b3",
   "metadata": {
    "colab": {
     "base_uri": "https://localhost:8080/",
     "height": 468
    },
    "id": "8b2901b3",
    "outputId": "5f0a6686-094c-4478-df6c-2a65cecaa8c9",
    "scrolled": false
   },
   "outputs": [
    {
     "data": {
      "text/plain": [
       "<Axes: xlabel='lane_count'>"
      ]
     },
     "execution_count": 64,
     "metadata": {},
     "output_type": "execute_result"
    },
    {
     "data": {
      "image/png": "[encoded data removed]",
      "text/plain": [
       "<Figure size 640x480 with 1 Axes>"
      ]
     },
     "metadata": {},
     "output_type": "display_data"
    }
   ],
   "source": [
    "lane_count = train.groupby('lane_count')['target'].mean()\n",
    "sns.barplot(x=lane_count.index, y=lane_count.values)"
   ]
  },
  {
   "cell_type": "markdown",
   "id": "f8e3420d",
   "metadata": {
    "id": "f8e3420d"
   },
   "source": [
    "- 차로 수가 2개일 때, 평균 속도가 상대적으로 높음\n",
    "\n",
    "\n",
    "- 차로 수가 3개일 때는 상대적으로 낮음"
   ]
  },
  {
   "cell_type": "markdown",
   "id": "86db3a4b",
   "metadata": {
    "id": "86db3a4b"
   },
   "source": [
    "##### 3. road_rating 도로 등급"
   ]
  },
  {
   "cell_type": "code",
   "execution_count": 65,
   "id": "f59d81eb",
   "metadata": {
    "colab": {
     "base_uri": "https://localhost:8080/",
     "height": 542
    },
    "id": "f59d81eb",
    "outputId": "6d767ab4-9668-4e5c-ed8c-543e6e73cb80"
   },
   "outputs": [
    {
     "name": "stdout",
     "output_type": "stream",
     "text": [
      "2    503246\n",
      "1    333995\n",
      "3    168500\n",
      "Name: lane_count, dtype: int64\n"
     ]
    },
    {
     "data": {
      "text/plain": [
       "<Axes: xlabel='road_rating'>"
      ]
     },
     "execution_count": 65,
     "metadata": {},
     "output_type": "execute_result"
    },
    {
     "data": {
      "image/png": "[encoded data removed]",
      "text/plain": [
       "<Figure size 640x480 with 1 Axes>"
      ]
     },
     "metadata": {},
     "output_type": "display_data"
    }
   ],
   "source": [
    "print(train['lane_count'].value_counts())\n",
    "\n",
    "road_rating = train.groupby('road_rating')['target'].mean()\n",
    "sns.barplot(x=road_rating.index, y=road_rating.values)"
   ]
  },
  {
   "cell_type": "markdown",
   "id": "cc788f98",
   "metadata": {
    "id": "cc788f98"
   },
   "source": [
    "- 도로등급: 103(일반 국도), 106(지방도), 107(시/군도)\n",
    "\n",
    "\n",
    "- 도로 등급이 106(지방도)일 때, 평균 속도가 상대적으로 높음\n",
    "\n",
    "\n",
    "- 도로 등급이 107(시/군도)일 때, 상대적으로 낮음"
   ]
  },
  {
   "cell_type": "markdown",
   "id": "0d65d2c5",
   "metadata": {
    "id": "0d65d2c5"
   },
   "source": [
    "##### 4. multi_linked 중용구간"
   ]
  },
  {
   "cell_type": "code",
   "execution_count": 66,
   "id": "2c787f08",
   "metadata": {
    "colab": {
     "base_uri": "https://localhost:8080/"
    },
    "id": "2c787f08",
    "outputId": "fa632f90-318f-44eb-ad37-5c5edd41d06d"
   },
   "outputs": [
    {
     "data": {
      "text/plain": [
       "0    1005226\n",
       "1        515\n",
       "Name: multi_linked, dtype: int64"
      ]
     },
     "execution_count": 66,
     "metadata": {},
     "output_type": "execute_result"
    }
   ],
   "source": [
    "train['multi_linked'].value_counts()"
   ]
  },
  {
   "cell_type": "markdown",
   "id": "08c4e586",
   "metadata": {
    "id": "08c4e586"
   },
   "source": [
    "- 중용구간이 '있음'과 '없음'이 차이가 매우 큼 >> 제거하는게 좋을 듯"
   ]
  },
  {
   "cell_type": "code",
   "execution_count": 67,
   "id": "e8336f15",
   "metadata": {
    "id": "e8336f15"
   },
   "outputs": [],
   "source": [
    "train = train.drop('multi_linked', axis=1)\n",
    "test = test.drop('multi_linked', axis=1)"
   ]
  },
  {
   "cell_type": "markdown",
   "id": "6329255e",
   "metadata": {
    "id": "6329255e"
   },
   "source": [
    "##### 5. connect_code 연결로 코드"
   ]
  },
  {
   "cell_type": "code",
   "execution_count": 68,
   "id": "63cbecd0",
   "metadata": {
    "colab": {
     "base_uri": "https://localhost:8080/"
    },
    "id": "63cbecd0",
    "outputId": "0658ad2b-5bea-46c4-8c09-3c47e1665c96"
   },
   "outputs": [
    {
     "data": {
      "text/plain": [
       "0      1003209\n",
       "103       2532\n",
       "Name: connect_code, dtype: int64"
      ]
     },
     "execution_count": 68,
     "metadata": {},
     "output_type": "execute_result"
    }
   ],
   "source": [
    "train['connect_code'].value_counts()"
   ]
  },
  {
   "cell_type": "markdown",
   "id": "cb1d515b",
   "metadata": {
    "id": "cb1d515b"
   },
   "source": [
    "- 연결로 코드 0(없음)과 103(있음)의 차이가 매우 큼 >> 마찬가지로 제거"
   ]
  },
  {
   "cell_type": "code",
   "execution_count": 69,
   "id": "12f45a1f",
   "metadata": {
    "id": "12f45a1f"
   },
   "outputs": [],
   "source": [
    "train = train.drop('connect_code', axis=1)\n",
    "test = test.drop('connect_code', axis=1)"
   ]
  },
  {
   "cell_type": "markdown",
   "id": "89400583",
   "metadata": {
    "id": "89400583"
   },
   "source": [
    "##### 6. maximum_speed_limit 최대 속도 제한"
   ]
  },
  {
   "cell_type": "code",
   "execution_count": 70,
   "id": "9f3906b9",
   "metadata": {
    "colab": {
     "base_uri": "https://localhost:8080/",
     "height": 613
    },
    "id": "9f3906b9",
    "outputId": "3577811a-d365-4ffd-c5c2-f29ad94bae7a"
   },
   "outputs": [
    {
     "name": "stdout",
     "output_type": "stream",
     "text": [
      "maximum_speed_limit\n",
      "30.0    32.286912\n",
      "40.0    62.891462\n",
      "50.0    35.484494\n",
      "60.0    42.345679\n",
      "70.0    41.393744\n",
      "80.0    60.735043\n",
      "Name: target, dtype: float64\n"
     ]
    },
    {
     "data": {
      "text/plain": [
       "<Axes: xlabel='maximum_speed_limit'>"
      ]
     },
     "execution_count": 70,
     "metadata": {},
     "output_type": "execute_result"
    },
    {
     "data": {
      "image/png": "[encoded data removed]",
      "text/plain": [
       "<Figure size 640x480 with 1 Axes>"
      ]
     },
     "metadata": {},
     "output_type": "display_data"
    }
   ],
   "source": [
    "train['maximum_speed_limit'].value_counts()\n",
    "msl = train.groupby('maximum_speed_limit')['target'].mean()\n",
    "print(msl)\n",
    "sns.barplot(x=msl.index, y=msl.values)"
   ]
  },
  {
   "cell_type": "markdown",
   "id": "8f462526",
   "metadata": {
    "id": "8f462526"
   },
   "source": [
    "- 최대 속도 제한이 40, 80인 도로에서 평균 속도가 상대적으로 높음\n",
    "\n",
    "\n",
    "- 최대 속도 제한이 30인 도로에서 상대적으로 낮음"
   ]
  },
  {
   "cell_type": "code",
   "execution_count": 71,
   "id": "f79c68b5",
   "metadata": {
    "colab": {
     "base_uri": "https://localhost:8080/",
     "height": 468
    },
    "id": "f79c68b5",
    "outputId": "614a1f33-a511-47ce-ead8-90dd994938ca"
   },
   "outputs": [
    {
     "data": {
      "text/plain": [
       "<Axes: xlabel='maximum_speed_limit', ylabel='target'>"
      ]
     },
     "execution_count": 71,
     "metadata": {},
     "output_type": "execute_result"
    },
    {
     "data": {
      "image/png": "[encoded data removed]",
      "text/plain": [
       "<Figure size 640x480 with 1 Axes>"
      ]
     },
     "metadata": {},
     "output_type": "display_data"
    }
   ],
   "source": [
    "sns.boxplot(train, x='maximum_speed_limit', y='target')"
   ]
  },
  {
   "cell_type": "markdown",
   "id": "53581f38",
   "metadata": {
    "id": "53581f38"
   },
   "source": [
    "- 각 속도 제한 마다 이상치가 매우 많음"
   ]
  },
  {
   "cell_type": "markdown",
   "id": "b0ab21b0",
   "metadata": {
    "id": "b0ab21b0"
   },
   "source": [
    "##### 7. vehicle_restricted 통과 제한 차량"
   ]
  },
  {
   "cell_type": "code",
   "execution_count": 72,
   "id": "c947a46e",
   "metadata": {
    "colab": {
     "base_uri": "https://localhost:8080/"
    },
    "id": "c947a46e",
    "outputId": "7e76b4f1-341b-49ad-a46f-9f1caae52117"
   },
   "outputs": [
    {
     "data": {
      "text/plain": [
       "0.0    1005741\n",
       "Name: vehicle_restricted, dtype: int64"
      ]
     },
     "execution_count": 72,
     "metadata": {},
     "output_type": "execute_result"
    }
   ],
   "source": [
    "train['vehicle_restricted'].value_counts()"
   ]
  },
  {
   "cell_type": "markdown",
   "id": "adb3f666",
   "metadata": {
    "id": "adb3f666"
   },
   "source": [
    "- 유일값이 0.0으로 1개임 >> 제거"
   ]
  },
  {
   "cell_type": "code",
   "execution_count": 73,
   "id": "9a1ba537",
   "metadata": {
    "id": "9a1ba537"
   },
   "outputs": [],
   "source": [
    "train = train.drop('vehicle_restricted', axis=1)\n",
    "test = test.drop('vehicle_restricted', axis=1)"
   ]
  },
  {
   "cell_type": "markdown",
   "id": "8711eab0",
   "metadata": {
    "id": "8711eab0"
   },
   "source": [
    "##### 8. weight_restricted\t통과 제한 하중"
   ]
  },
  {
   "cell_type": "code",
   "execution_count": 74,
   "id": "eb3525b7",
   "metadata": {
    "colab": {
     "base_uri": "https://localhost:8080/"
    },
    "id": "eb3525b7",
    "outputId": "862f1331-7155-488e-d8d8-291ec441070e"
   },
   "outputs": [
    {
     "name": "stdout",
     "output_type": "stream",
     "text": [
      "0.0        862208\n",
      "43200.0     88132\n",
      "32400.0     51435\n",
      "50000.0      3966\n",
      "Name: weight_restricted, dtype: int64\n",
      "weight_restricted\n",
      "0.0        40.965425\n",
      "32400.0    47.475338\n",
      "43200.0    57.978407\n",
      "50000.0    47.077408\n",
      "Name: target, dtype: float64\n"
     ]
    }
   ],
   "source": [
    "print(train['weight_restricted'].value_counts())\n",
    "print(train.groupby('weight_restricted')['target'].mean())"
   ]
  },
  {
   "cell_type": "markdown",
   "id": "c1489647",
   "metadata": {
    "id": "c1489647"
   },
   "source": [
    "- 통과 제한 하중이 없을 때(0일 때) 평균 속도가 높음"
   ]
  },
  {
   "cell_type": "markdown",
   "id": "9ed4fc1f",
   "metadata": {
    "id": "9ed4fc1f"
   },
   "source": [
    "##### 9. height_restricted 통과 제한 높이"
   ]
  },
  {
   "cell_type": "code",
   "execution_count": 75,
   "id": "baf59631",
   "metadata": {
    "colab": {
     "base_uri": "https://localhost:8080/"
    },
    "id": "baf59631",
    "outputId": "424a44dd-3de1-43d0-f399-0fa37b5953aa"
   },
   "outputs": [
    {
     "data": {
      "text/plain": [
       "0.0    1005741\n",
       "Name: height_restricted, dtype: int64"
      ]
     },
     "execution_count": 75,
     "metadata": {},
     "output_type": "execute_result"
    }
   ],
   "source": [
    "train['height_restricted'].value_counts()"
   ]
  },
  {
   "cell_type": "markdown",
   "id": "ec78a410",
   "metadata": {
    "id": "ec78a410"
   },
   "source": [
    "- 유일값이 0.0으로 1개임 >> 제거"
   ]
  },
  {
   "cell_type": "code",
   "execution_count": 76,
   "id": "b9854816",
   "metadata": {
    "id": "b9854816"
   },
   "outputs": [],
   "source": [
    "train = train.drop('height_restricted', axis=1)\n",
    "test = test.drop('height_restricted', axis=1)"
   ]
  },
  {
   "cell_type": "markdown",
   "id": "b37e66e9",
   "metadata": {
    "id": "b37e66e9"
   },
   "source": [
    "##### 10. road_type 도로 유형"
   ]
  },
  {
   "cell_type": "code",
   "execution_count": 77,
   "id": "ec3317e5",
   "metadata": {
    "colab": {
     "base_uri": "https://localhost:8080/",
     "height": 595
    },
    "id": "ec3317e5",
    "outputId": "61aa28bf-997f-4a35-987c-bf67a4f961a0",
    "scrolled": false
   },
   "outputs": [
    {
     "name": "stdout",
     "output_type": "stream",
     "text": [
      "0    798903\n",
      "3    206838\n",
      "Name: road_type, dtype: int64\n",
      "road_type\n",
      "0    41.167829\n",
      "3    49.168775\n",
      "Name: target, dtype: float64\n",
      "Axes(0.125,0.11;0.775x0.77)\n"
     ]
    },
    {
     "data": {
      "image/png": "[encoded data removed]",
      "text/plain": [
       "<Figure size 640x480 with 1 Axes>"
      ]
     },
     "metadata": {},
     "output_type": "display_data"
    }
   ],
   "source": [
    "print(train['road_type'].value_counts())\n",
    "road_type = train.groupby('road_type')['target'].mean()\n",
    "print(road_type)\n",
    "print(sns.barplot(x=road_type.index, y=road_type.values))"
   ]
  },
  {
   "cell_type": "markdown",
   "id": "ffce5f81",
   "metadata": {
    "id": "ffce5f81"
   },
   "source": [
    "- 도로 유형이 3일 때 평균 속도가 상대적으로 높음"
   ]
  },
  {
   "cell_type": "markdown",
   "id": "861b807b",
   "metadata": {
    "id": "861b807b"
   },
   "source": [
    "##### 11. road_name 도로명"
   ]
  },
  {
   "cell_type": "code",
   "execution_count": 78,
   "id": "8d7f1cf2",
   "metadata": {
    "colab": {
     "base_uri": "https://localhost:8080/"
    },
    "id": "8d7f1cf2",
    "outputId": "13625bf2-5bbf-4517-ea2f-d9e3032ec064"
   },
   "outputs": [
    {
     "name": "stdout",
     "output_type": "stream",
     "text": [
      "일반국도12호선    223754\n",
      "-           122069\n",
      "일반국도16호선    118926\n",
      "일반국도95호선     53222\n",
      "일반국도11호선     45915\n",
      "             ...  \n",
      "애원로           1602\n",
      "아봉로           1546\n",
      "남조로           1509\n",
      "호서중앙로          570\n",
      "호근로            132\n",
      "Name: road_name, Length: 61, dtype: int64\n"
     ]
    }
   ],
   "source": [
    "print(train['road_name'].value_counts())"
   ]
  },
  {
   "cell_type": "markdown",
   "id": "ec1a0a68",
   "metadata": {
    "id": "ec1a0a68"
   },
   "source": [
    "- 도로명 결측치가 569,463개 있음 >> 상당 부분을 차지하기 때문에 다른 값으로 대체 or 제거\n",
    "\n",
    "\n",
    "- 일단 도로명이 결측되어있는 행의 다른 피처 값 살펴보기"
   ]
  },
  {
   "cell_type": "code",
   "execution_count": 79,
   "id": "53b1e9ba",
   "metadata": {
    "colab": {
     "base_uri": "https://localhost:8080/"
    },
    "id": "53b1e9ba",
    "outputId": "c92514b4-a6d5-48a1-f336-0d00eb4bbe4c"
   },
   "outputs": [
    {
     "name": "stderr",
     "output_type": "stream",
     "text": [
      "<ipython-input-79-00860c2710f0>:1: FutureWarning: Indexing with multiple keys (implicitly converted to a tuple of keys) will be deprecated, use a list instead.\n",
      "  miss_road = train.groupby(train['road_name'] == '-')['road_rating', 'road_type', 'weight_restricted']\n"
     ]
    },
    {
     "data": {
      "text/plain": [
       "road_name  road_rating  road_type  weight_restricted\n",
       "False      103          0          0.0                  346514\n",
       "           107          0          0.0                  197799\n",
       "           106          0          0.0                  151276\n",
       "           103          3          43200.0               45915\n",
       "                                   32400.0               34781\n",
       "                                   0.0                   31157\n",
       "           106          3          43200.0               25350\n",
       "                                   0.0                   17710\n",
       "           107          3          0.0                   14438\n",
       "           106          3          32400.0               10696\n",
       "           103          3          50000.0                3966\n",
       "           107          3          43200.0                2349\n",
       "                                   32400.0                1721\n",
       "True       107          0          0.0                  103314\n",
       "                        3          43200.0               14518\n",
       "                                   32400.0                4237\n",
       "dtype: int64"
      ]
     },
     "execution_count": 79,
     "metadata": {},
     "output_type": "execute_result"
    }
   ],
   "source": [
    "miss_road = train.groupby(train['road_name'] == '-')['road_rating', 'road_type', 'weight_restricted']\n",
    "miss_road.value_counts()\n",
    "# road_name이 '-'인 도로의 road_rating(도로 등급)은 모두 107임\n",
    "# road_type은 0이 매우 많음\n"
   ]
  },
  {
   "cell_type": "markdown",
   "id": "6ff74966",
   "metadata": {
    "id": "6ff74966"
   },
   "source": [
    "- 딱히 패턴이 발견되지 않음, 다른 값으로 대체하는 것보다 제거가 나을 듯"
   ]
  },
  {
   "cell_type": "code",
   "execution_count": 80,
   "id": "6fe43e3b",
   "metadata": {
    "id": "6fe43e3b"
   },
   "outputs": [],
   "source": [
    "train = train.drop('road_name', axis=1)\n",
    "test = test.drop('road_name', axis=1)"
   ]
  },
  {
   "cell_type": "markdown",
   "id": "b553f8c4",
   "metadata": {
    "id": "b553f8c4"
   },
   "source": [
    "##### 12. day_of_week 요일"
   ]
  },
  {
   "cell_type": "code",
   "execution_count": 81,
   "id": "359597ab",
   "metadata": {
    "colab": {
     "base_uri": "https://localhost:8080/"
    },
    "id": "359597ab",
    "outputId": "e1eb306d-240d-435a-d49b-4c9e3674f121"
   },
   "outputs": [
    {
     "data": {
      "text/plain": [
       "day_of_week\n",
       "금    42.491549\n",
       "목    42.798655\n",
       "수    42.794450\n",
       "월    42.748799\n",
       "일    43.185277\n",
       "토    42.959044\n",
       "화    42.718448\n",
       "Name: target, dtype: float64"
      ]
     },
     "execution_count": 81,
     "metadata": {},
     "output_type": "execute_result"
    }
   ],
   "source": [
    "train.groupby('day_of_week')['target'].mean()\n"
   ]
  },
  {
   "cell_type": "markdown",
   "id": "da79f55e",
   "metadata": {
    "id": "da79f55e"
   },
   "source": [
    "- 요일에 따른 평균 속도는 거의 비슷함"
   ]
  },
  {
   "cell_type": "code",
   "execution_count": 82,
   "id": "df243f6f",
   "metadata": {
    "colab": {
     "base_uri": "https://localhost:8080/"
    },
    "id": "df243f6f",
    "outputId": "e8788e2f-5f14-4319-8701-c4c91892ce28"
   },
   "outputs": [
    {
     "name": "stdout",
     "output_type": "stream",
     "text": [
      "0          0\n",
      "1          0\n",
      "2          0\n",
      "3          0\n",
      "4          0\n",
      "          ..\n",
      "1005736    0\n",
      "1005737    0\n",
      "1005738    0\n",
      "1005739    1\n",
      "1005740    2\n",
      "Name: end_turn_restricted, Length: 1005741, dtype: int64\n",
      "0         1\n",
      "1         0\n",
      "2         0\n",
      "3         0\n",
      "4         0\n",
      "         ..\n",
      "291236    0\n",
      "291237    0\n",
      "291238    1\n",
      "291239    0\n",
      "291240    0\n",
      "Name: end_turn_restricted, Length: 291241, dtype: int64\n"
     ]
    }
   ],
   "source": [
    "#요일이랑 있음/없음으로 나눠지는 칼럼들 0,1,2,3..으로 인코딩해주기\n",
    "from sklearn.preprocessing import LabelEncoder\n",
    "\n",
    "col = ['day_of_week', 'start_turn_restricted', 'end_turn_restricted']\n",
    "\n",
    "for i in col:\n",
    "    encoder = LabelEncoder()\n",
    "    encoder.fit(train[i])\n",
    "    train[i] = encoder.transform(train[i])\n",
    "    \n",
    "for i in col:\n",
    "    encoder = LabelEncoder()\n",
    "    encoder.fit(test[i])\n",
    "    test[i] = encoder.transform(test[i])\n",
    "    \n",
    "print(train[i])\n",
    "print(test[i])"
   ]
  },
  {
   "cell_type": "code",
   "execution_count": 83,
   "id": "f787e6fe",
   "metadata": {
    "colab": {
     "base_uri": "https://localhost:8080/",
     "height": 270
    },
    "id": "f787e6fe",
    "outputId": "bc6551a6-f08d-444f-f83a-7f8057474e92",
    "scrolled": true
   },
   "outputs": [
    {
     "data": {
      "text/html": [
       "\n",
       "  <div id=\"df-8c810340-6702-483a-bc32-0e445dfb19b0\">\n",
       "    <div class=\"colab-df-container\">\n",
       "      <div>\n",
       "<style scoped>\n",
       "    .dataframe tbody tr th:only-of-type {\n",
       "        vertical-align: middle;\n",
       "    }\n",
       "\n",
       "    .dataframe tbody tr th {\n",
       "        vertical-align: top;\n",
       "    }\n",
       "\n",
       "    .dataframe thead th {\n",
       "        text-align: right;\n",
       "    }\n",
       "</style>\n",
       "<table border=\"1\" class=\"dataframe\">\n",
       "  <thead>\n",
       "    <tr style=\"text-align: right;\">\n",
       "      <th></th>\n",
       "      <th>id</th>\n",
       "      <th>base_date</th>\n",
       "      <th>day_of_week</th>\n",
       "      <th>base_hour</th>\n",
       "      <th>lane_count</th>\n",
       "      <th>road_rating</th>\n",
       "      <th>maximum_speed_limit</th>\n",
       "      <th>weight_restricted</th>\n",
       "      <th>road_type</th>\n",
       "      <th>start_node_name</th>\n",
       "      <th>start_latitude</th>\n",
       "      <th>start_longitude</th>\n",
       "      <th>start_turn_restricted</th>\n",
       "      <th>end_node_name</th>\n",
       "      <th>end_latitude</th>\n",
       "      <th>end_longitude</th>\n",
       "      <th>end_turn_restricted</th>\n",
       "      <th>target</th>\n",
       "    </tr>\n",
       "  </thead>\n",
       "  <tbody>\n",
       "    <tr>\n",
       "      <th>1005736</th>\n",
       "      <td>TRAIN_1005736</td>\n",
       "      <td>20211015</td>\n",
       "      <td>0</td>\n",
       "      <td>22</td>\n",
       "      <td>1</td>\n",
       "      <td>103</td>\n",
       "      <td>60.0</td>\n",
       "      <td>0.0</td>\n",
       "      <td>0</td>\n",
       "      <td>명월교차로</td>\n",
       "      <td>33.398662</td>\n",
       "      <td>126.263630</td>\n",
       "      <td>0</td>\n",
       "      <td>명월하동</td>\n",
       "      <td>33.396334</td>\n",
       "      <td>126.260544</td>\n",
       "      <td>0</td>\n",
       "      <td>59.0</td>\n",
       "    </tr>\n",
       "    <tr>\n",
       "      <th>1005737</th>\n",
       "      <td>TRAIN_1005737</td>\n",
       "      <td>20220110</td>\n",
       "      <td>3</td>\n",
       "      <td>4</td>\n",
       "      <td>2</td>\n",
       "      <td>103</td>\n",
       "      <td>80.0</td>\n",
       "      <td>0.0</td>\n",
       "      <td>0</td>\n",
       "      <td>창흥교차로</td>\n",
       "      <td>33.508108</td>\n",
       "      <td>126.887393</td>\n",
       "      <td>0</td>\n",
       "      <td>하도입구</td>\n",
       "      <td>33.518327</td>\n",
       "      <td>126.882437</td>\n",
       "      <td>0</td>\n",
       "      <td>59.0</td>\n",
       "    </tr>\n",
       "    <tr>\n",
       "      <th>1005738</th>\n",
       "      <td>TRAIN_1005738</td>\n",
       "      <td>20220103</td>\n",
       "      <td>3</td>\n",
       "      <td>16</td>\n",
       "      <td>2</td>\n",
       "      <td>107</td>\n",
       "      <td>60.0</td>\n",
       "      <td>0.0</td>\n",
       "      <td>0</td>\n",
       "      <td>부동산</td>\n",
       "      <td>33.254531</td>\n",
       "      <td>126.511810</td>\n",
       "      <td>0</td>\n",
       "      <td>오름식당</td>\n",
       "      <td>33.253648</td>\n",
       "      <td>126.511497</td>\n",
       "      <td>0</td>\n",
       "      <td>21.0</td>\n",
       "    </tr>\n",
       "    <tr>\n",
       "      <th>1005739</th>\n",
       "      <td>TRAIN_1005739</td>\n",
       "      <td>20211229</td>\n",
       "      <td>2</td>\n",
       "      <td>9</td>\n",
       "      <td>3</td>\n",
       "      <td>103</td>\n",
       "      <td>70.0</td>\n",
       "      <td>0.0</td>\n",
       "      <td>0</td>\n",
       "      <td>인제사거리</td>\n",
       "      <td>33.507384</td>\n",
       "      <td>126.540331</td>\n",
       "      <td>1</td>\n",
       "      <td>영락교회</td>\n",
       "      <td>33.509729</td>\n",
       "      <td>126.543144</td>\n",
       "      <td>1</td>\n",
       "      <td>23.0</td>\n",
       "    </tr>\n",
       "    <tr>\n",
       "      <th>1005740</th>\n",
       "      <td>TRAIN_1005740</td>\n",
       "      <td>20220509</td>\n",
       "      <td>3</td>\n",
       "      <td>19</td>\n",
       "      <td>2</td>\n",
       "      <td>103</td>\n",
       "      <td>50.0</td>\n",
       "      <td>0.0</td>\n",
       "      <td>0</td>\n",
       "      <td>미수2교</td>\n",
       "      <td>33.483661</td>\n",
       "      <td>126.405096</td>\n",
       "      <td>0</td>\n",
       "      <td>미수2교</td>\n",
       "      <td>3.000000</td>\n",
       "      <td>NaN</td>\n",
       "      <td>2</td>\n",
       "      <td>NaN</td>\n",
       "    </tr>\n",
       "  </tbody>\n",
       "</table>\n",
       "</div>\n",
       "      <button class=\"colab-df-convert\" onclick=\"convertToInteractive('df-8c810340-6702-483a-bc32-0e445dfb19b0')\"\n",
       "              title=\"Convert this dataframe to an interactive table.\"\n",
       "              style=\"display:none;\">\n",
       "        \n",
       "  <svg xmlns=\"http://www.w3.org/2000/svg\" height=\"24px\"viewBox=\"0 0 24 24\"\n",
       "       width=\"24px\">\n",
       "    <path d=\"M0 0h24v24H0V0z\" fill=\"none\"/>\n",
       "    <path d=\"M18.56 5.44l.94 2.06.94-2.06 2.06-.94-2.06-.94-.94-2.06-.94 2.06-2.06.94zm-11 1L8.5 8.5l.94-2.06 2.06-.94-2.06-.94L8.5 2.5l-.94 2.06-2.06.94zm10 10l.94 2.06.94-2.06 2.06-.94-2.06-.94-.94-2.06-.94 2.06-2.06.94z\"/><path d=\"M17.41 7.96l-1.37-1.37c-.4-.4-.92-.59-1.43-.59-.52 0-1.04.2-1.43.59L10.3 9.45l-7.72 7.72c-.78.78-.78 2.05 0 2.83L4 21.41c.39.39.9.59 1.41.59.51 0 1.02-.2 1.41-.59l7.78-7.78 2.81-2.81c.8-.78.8-2.07 0-2.86zM5.41 20L4 18.59l7.72-7.72 1.47 1.35L5.41 20z\"/>\n",
       "  </svg>\n",
       "      </button>\n",
       "      \n",
       "  <style>\n",
       "    .colab-df-container {\n",
       "      display:flex;\n",
       "      flex-wrap:wrap;\n",
       "      gap: 12px;\n",
       "    }\n",
       "\n",
       "    .colab-df-convert {\n",
       "      background-color: #E8F0FE;\n",
       "      border: none;\n",
       "      border-radius: 50%;\n",
       "      cursor: pointer;\n",
       "      display: none;\n",
       "      fill: #1967D2;\n",
       "      height: 32px;\n",
       "      padding: 0 0 0 0;\n",
       "      width: 32px;\n",
       "    }\n",
       "\n",
       "    .colab-df-convert:hover {\n",
       "      background-color: #E2EBFA;\n",
       "      box-shadow: 0px 1px 2px rgba(60, 64, 67, 0.3), 0px 1px 3px 1px rgba(60, 64, 67, 0.15);\n",
       "      fill: #174EA6;\n",
       "    }\n",
       "\n",
       "    [theme=dark] .colab-df-convert {\n",
       "      background-color: #3B4455;\n",
       "      fill: #D2E3FC;\n",
       "    }\n",
       "\n",
       "    [theme=dark] .colab-df-convert:hover {\n",
       "      background-color: #434B5C;\n",
       "      box-shadow: 0px 1px 3px 1px rgba(0, 0, 0, 0.15);\n",
       "      filter: drop-shadow(0px 1px 2px rgba(0, 0, 0, 0.3));\n",
       "      fill: #FFFFFF;\n",
       "    }\n",
       "  </style>\n",
       "\n",
       "      <script>\n",
       "        const buttonEl =\n",
       "          document.querySelector('#df-8c810340-6702-483a-bc32-0e445dfb19b0 button.colab-df-convert');\n",
       "        buttonEl.style.display =\n",
       "          google.colab.kernel.accessAllowed ? 'block' : 'none';\n",
       "\n",
       "        async function convertToInteractive(key) {\n",
       "          const element = document.querySelector('#df-8c810340-6702-483a-bc32-0e445dfb19b0');\n",
       "          const dataTable =\n",
       "            await google.colab.kernel.invokeFunction('convertToInteractive',\n",
       "                                                     [key], {});\n",
       "          if (!dataTable) return;\n",
       "\n",
       "          const docLinkHtml = 'Like what you see? Visit the ' +\n",
       "            '<a target=\"_blank\" href=https://colab.research.google.com/notebooks/data_table.ipynb>data table notebook</a>'\n",
       "            + ' to learn more about interactive tables.';\n",
       "          element.innerHTML = '';\n",
       "          dataTable['output_type'] = 'display_data';\n",
       "          await google.colab.output.renderOutput(dataTable, element);\n",
       "          const docLink = document.createElement('div');\n",
       "          docLink.innerHTML = docLinkHtml;\n",
       "          element.appendChild(docLink);\n",
       "        }\n",
       "      </script>\n",
       "    </div>\n",
       "  </div>\n",
       "  "
      ],
      "text/plain": [
       "                    id  base_date  day_of_week  base_hour  lane_count  \\\n",
       "1005736  TRAIN_1005736   20211015            0         22           1   \n",
       "1005737  TRAIN_1005737   20220110            3          4           2   \n",
       "1005738  TRAIN_1005738   20220103            3         16           2   \n",
       "1005739  TRAIN_1005739   20211229            2          9           3   \n",
       "1005740  TRAIN_1005740   20220509            3         19           2   \n",
       "\n",
       "         road_rating  maximum_speed_limit  weight_restricted  road_type  \\\n",
       "1005736          103                 60.0                0.0          0   \n",
       "1005737          103                 80.0                0.0          0   \n",
       "1005738          107                 60.0                0.0          0   \n",
       "1005739          103                 70.0                0.0          0   \n",
       "1005740          103                 50.0                0.0          0   \n",
       "\n",
       "        start_node_name  start_latitude  start_longitude  \\\n",
       "1005736           명월교차로       33.398662       126.263630   \n",
       "1005737           창흥교차로       33.508108       126.887393   \n",
       "1005738             부동산       33.254531       126.511810   \n",
       "1005739           인제사거리       33.507384       126.540331   \n",
       "1005740            미수2교       33.483661       126.405096   \n",
       "\n",
       "         start_turn_restricted end_node_name  end_latitude  end_longitude  \\\n",
       "1005736                      0          명월하동     33.396334     126.260544   \n",
       "1005737                      0          하도입구     33.518327     126.882437   \n",
       "1005738                      0          오름식당     33.253648     126.511497   \n",
       "1005739                      1          영락교회     33.509729     126.543144   \n",
       "1005740                      0          미수2교      3.000000            NaN   \n",
       "\n",
       "         end_turn_restricted  target  \n",
       "1005736                    0    59.0  \n",
       "1005737                    0    59.0  \n",
       "1005738                    0    21.0  \n",
       "1005739                    1    23.0  \n",
       "1005740                    2     NaN  "
      ]
     },
     "execution_count": 83,
     "metadata": {},
     "output_type": "execute_result"
    }
   ],
   "source": [
    "train.head()\n",
    "train.tail()"
   ]
  },
  {
   "cell_type": "code",
   "execution_count": 84,
   "id": "adaca7b6",
   "metadata": {
    "colab": {
     "base_uri": "https://localhost:8080/",
     "height": 287
    },
    "id": "adaca7b6",
    "outputId": "32d0efd0-82d6-4f00-cfb7-937eb6a8940a"
   },
   "outputs": [
    {
     "data": {
      "text/html": [
       "\n",
       "  <div id=\"df-00f9b2ce-8103-471c-b4ba-6d8a0ed7d95c\">\n",
       "    <div class=\"colab-df-container\">\n",
       "      <div>\n",
       "<style scoped>\n",
       "    .dataframe tbody tr th:only-of-type {\n",
       "        vertical-align: middle;\n",
       "    }\n",
       "\n",
       "    .dataframe tbody tr th {\n",
       "        vertical-align: top;\n",
       "    }\n",
       "\n",
       "    .dataframe thead th {\n",
       "        text-align: right;\n",
       "    }\n",
       "</style>\n",
       "<table border=\"1\" class=\"dataframe\">\n",
       "  <thead>\n",
       "    <tr style=\"text-align: right;\">\n",
       "      <th></th>\n",
       "      <th>id</th>\n",
       "      <th>base_date</th>\n",
       "      <th>day_of_week</th>\n",
       "      <th>base_hour</th>\n",
       "      <th>lane_count</th>\n",
       "      <th>road_rating</th>\n",
       "      <th>maximum_speed_limit</th>\n",
       "      <th>weight_restricted</th>\n",
       "      <th>road_type</th>\n",
       "      <th>start_node_name</th>\n",
       "      <th>start_latitude</th>\n",
       "      <th>start_longitude</th>\n",
       "      <th>start_turn_restricted</th>\n",
       "      <th>end_node_name</th>\n",
       "      <th>end_latitude</th>\n",
       "      <th>end_longitude</th>\n",
       "      <th>end_turn_restricted</th>\n",
       "    </tr>\n",
       "  </thead>\n",
       "  <tbody>\n",
       "    <tr>\n",
       "      <th>291236</th>\n",
       "      <td>TEST_291236</td>\n",
       "      <td>20220827</td>\n",
       "      <td>5</td>\n",
       "      <td>5</td>\n",
       "      <td>1</td>\n",
       "      <td>103</td>\n",
       "      <td>80.0</td>\n",
       "      <td>0.0</td>\n",
       "      <td>0</td>\n",
       "      <td>월산마을</td>\n",
       "      <td>33.472819</td>\n",
       "      <td>126.463030</td>\n",
       "      <td>0</td>\n",
       "      <td>도근교</td>\n",
       "      <td>33.470483</td>\n",
       "      <td>126.460846</td>\n",
       "      <td>0</td>\n",
       "    </tr>\n",
       "    <tr>\n",
       "      <th>291237</th>\n",
       "      <td>TEST_291237</td>\n",
       "      <td>20220819</td>\n",
       "      <td>0</td>\n",
       "      <td>20</td>\n",
       "      <td>2</td>\n",
       "      <td>103</td>\n",
       "      <td>60.0</td>\n",
       "      <td>0.0</td>\n",
       "      <td>0</td>\n",
       "      <td>영주교</td>\n",
       "      <td>33.305359</td>\n",
       "      <td>126.598914</td>\n",
       "      <td>0</td>\n",
       "      <td>하례입구삼거리</td>\n",
       "      <td>33.300796</td>\n",
       "      <td>126.600332</td>\n",
       "      <td>0</td>\n",
       "    </tr>\n",
       "    <tr>\n",
       "      <th>291238</th>\n",
       "      <td>TEST_291238</td>\n",
       "      <td>20220805</td>\n",
       "      <td>0</td>\n",
       "      <td>11</td>\n",
       "      <td>1</td>\n",
       "      <td>107</td>\n",
       "      <td>30.0</td>\n",
       "      <td>0.0</td>\n",
       "      <td>0</td>\n",
       "      <td>마리나사거리</td>\n",
       "      <td>33.493624</td>\n",
       "      <td>126.496769</td>\n",
       "      <td>1</td>\n",
       "      <td>칠오광장사거리</td>\n",
       "      <td>33.497500</td>\n",
       "      <td>126.496946</td>\n",
       "      <td>1</td>\n",
       "    </tr>\n",
       "    <tr>\n",
       "      <th>291239</th>\n",
       "      <td>TEST_291239</td>\n",
       "      <td>20220812</td>\n",
       "      <td>0</td>\n",
       "      <td>7</td>\n",
       "      <td>2</td>\n",
       "      <td>107</td>\n",
       "      <td>60.0</td>\n",
       "      <td>0.0</td>\n",
       "      <td>0</td>\n",
       "      <td>국민의료보험관리공단</td>\n",
       "      <td>33.254782</td>\n",
       "      <td>126.507014</td>\n",
       "      <td>0</td>\n",
       "      <td>의료보험조합</td>\n",
       "      <td>33.255659</td>\n",
       "      <td>126.507333</td>\n",
       "      <td>0</td>\n",
       "    </tr>\n",
       "    <tr>\n",
       "      <th>291240</th>\n",
       "      <td>TEST_291240</td>\n",
       "      <td>20220812</td>\n",
       "      <td>0</td>\n",
       "      <td>10</td>\n",
       "      <td>3</td>\n",
       "      <td>106</td>\n",
       "      <td>70.0</td>\n",
       "      <td>0.0</td>\n",
       "      <td>0</td>\n",
       "      <td>수모루교차로</td>\n",
       "      <td>33.246996</td>\n",
       "      <td>126.524358</td>\n",
       "      <td>0</td>\n",
       "      <td>수모루</td>\n",
       "      <td>33.247053</td>\n",
       "      <td>126.523503</td>\n",
       "      <td>0</td>\n",
       "    </tr>\n",
       "  </tbody>\n",
       "</table>\n",
       "</div>\n",
       "      <button class=\"colab-df-convert\" onclick=\"convertToInteractive('df-00f9b2ce-8103-471c-b4ba-6d8a0ed7d95c')\"\n",
       "              title=\"Convert this dataframe to an interactive table.\"\n",
       "              style=\"display:none;\">\n",
       "        \n",
       "  <svg xmlns=\"http://www.w3.org/2000/svg\" height=\"24px\"viewBox=\"0 0 24 24\"\n",
       "       width=\"24px\">\n",
       "    <path d=\"M0 0h24v24H0V0z\" fill=\"none\"/>\n",
       "    <path d=\"M18.56 5.44l.94 2.06.94-2.06 2.06-.94-2.06-.94-.94-2.06-.94 2.06-2.06.94zm-11 1L8.5 8.5l.94-2.06 2.06-.94-2.06-.94L8.5 2.5l-.94 2.06-2.06.94zm10 10l.94 2.06.94-2.06 2.06-.94-2.06-.94-.94-2.06-.94 2.06-2.06.94z\"/><path d=\"M17.41 7.96l-1.37-1.37c-.4-.4-.92-.59-1.43-.59-.52 0-1.04.2-1.43.59L10.3 9.45l-7.72 7.72c-.78.78-.78 2.05 0 2.83L4 21.41c.39.39.9.59 1.41.59.51 0 1.02-.2 1.41-.59l7.78-7.78 2.81-2.81c.8-.78.8-2.07 0-2.86zM5.41 20L4 18.59l7.72-7.72 1.47 1.35L5.41 20z\"/>\n",
       "  </svg>\n",
       "      </button>\n",
       "      \n",
       "  <style>\n",
       "    .colab-df-container {\n",
       "      display:flex;\n",
       "      flex-wrap:wrap;\n",
       "      gap: 12px;\n",
       "    }\n",
       "\n",
       "    .colab-df-convert {\n",
       "      background-color: #E8F0FE;\n",
       "      border: none;\n",
       "      border-radius: 50%;\n",
       "      cursor: pointer;\n",
       "      display: none;\n",
       "      fill: #1967D2;\n",
       "      height: 32px;\n",
       "      padding: 0 0 0 0;\n",
       "      width: 32px;\n",
       "    }\n",
       "\n",
       "    .colab-df-convert:hover {\n",
       "      background-color: #E2EBFA;\n",
       "      box-shadow: 0px 1px 2px rgba(60, 64, 67, 0.3), 0px 1px 3px 1px rgba(60, 64, 67, 0.15);\n",
       "      fill: #174EA6;\n",
       "    }\n",
       "\n",
       "    [theme=dark] .colab-df-convert {\n",
       "      background-color: #3B4455;\n",
       "      fill: #D2E3FC;\n",
       "    }\n",
       "\n",
       "    [theme=dark] .colab-df-convert:hover {\n",
       "      background-color: #434B5C;\n",
       "      box-shadow: 0px 1px 3px 1px rgba(0, 0, 0, 0.15);\n",
       "      filter: drop-shadow(0px 1px 2px rgba(0, 0, 0, 0.3));\n",
       "      fill: #FFFFFF;\n",
       "    }\n",
       "  </style>\n",
       "\n",
       "      <script>\n",
       "        const buttonEl =\n",
       "          document.querySelector('#df-00f9b2ce-8103-471c-b4ba-6d8a0ed7d95c button.colab-df-convert');\n",
       "        buttonEl.style.display =\n",
       "          google.colab.kernel.accessAllowed ? 'block' : 'none';\n",
       "\n",
       "        async function convertToInteractive(key) {\n",
       "          const element = document.querySelector('#df-00f9b2ce-8103-471c-b4ba-6d8a0ed7d95c');\n",
       "          const dataTable =\n",
       "            await google.colab.kernel.invokeFunction('convertToInteractive',\n",
       "                                                     [key], {});\n",
       "          if (!dataTable) return;\n",
       "\n",
       "          const docLinkHtml = 'Like what you see? Visit the ' +\n",
       "            '<a target=\"_blank\" href=https://colab.research.google.com/notebooks/data_table.ipynb>data table notebook</a>'\n",
       "            + ' to learn more about interactive tables.';\n",
       "          element.innerHTML = '';\n",
       "          dataTable['output_type'] = 'display_data';\n",
       "          await google.colab.output.renderOutput(dataTable, element);\n",
       "          const docLink = document.createElement('div');\n",
       "          docLink.innerHTML = docLinkHtml;\n",
       "          element.appendChild(docLink);\n",
       "        }\n",
       "      </script>\n",
       "    </div>\n",
       "  </div>\n",
       "  "
      ],
      "text/plain": [
       "                 id  base_date  day_of_week  base_hour  lane_count  \\\n",
       "291236  TEST_291236   20220827            5          5           1   \n",
       "291237  TEST_291237   20220819            0         20           2   \n",
       "291238  TEST_291238   20220805            0         11           1   \n",
       "291239  TEST_291239   20220812            0          7           2   \n",
       "291240  TEST_291240   20220812            0         10           3   \n",
       "\n",
       "        road_rating  maximum_speed_limit  weight_restricted  road_type  \\\n",
       "291236          103                 80.0                0.0          0   \n",
       "291237          103                 60.0                0.0          0   \n",
       "291238          107                 30.0                0.0          0   \n",
       "291239          107                 60.0                0.0          0   \n",
       "291240          106                 70.0                0.0          0   \n",
       "\n",
       "       start_node_name  start_latitude  start_longitude  \\\n",
       "291236            월산마을       33.472819       126.463030   \n",
       "291237             영주교       33.305359       126.598914   \n",
       "291238          마리나사거리       33.493624       126.496769   \n",
       "291239      국민의료보험관리공단       33.254782       126.507014   \n",
       "291240          수모루교차로       33.246996       126.524358   \n",
       "\n",
       "        start_turn_restricted end_node_name  end_latitude  end_longitude  \\\n",
       "291236                      0           도근교     33.470483     126.460846   \n",
       "291237                      0       하례입구삼거리     33.300796     126.600332   \n",
       "291238                      1       칠오광장사거리     33.497500     126.496946   \n",
       "291239                      0        의료보험조합     33.255659     126.507333   \n",
       "291240                      0           수모루     33.247053     126.523503   \n",
       "\n",
       "        end_turn_restricted  \n",
       "291236                    0  \n",
       "291237                    0  \n",
       "291238                    1  \n",
       "291239                    0  \n",
       "291240                    0  "
      ]
     },
     "execution_count": 84,
     "metadata": {},
     "output_type": "execute_result"
    }
   ],
   "source": [
    "test.tail()"
   ]
  },
  {
   "cell_type": "markdown",
   "id": "47f24869",
   "metadata": {
    "id": "47f24869"
   },
   "source": [
    "- 모델링에 필요없는 피처들 마저 제거"
   ]
  },
  {
   "cell_type": "code",
   "execution_count": 97,
   "id": "a618fc84",
   "metadata": {
    "id": "a618fc84"
   },
   "outputs": [],
   "source": [
    "X_train = train.drop(['id', 'base_date', 'start_node_name', 'end_node_name', 'target'], axis=1)\n",
    "y_train = train['target']\n",
    "X_test = test.drop(['id', 'base_date', 'start_node_name', 'end_node_name'], axis=1)\n"
   ]
  },
  {
   "cell_type": "code",
   "execution_count": 86,
   "id": "fc689460",
   "metadata": {
    "colab": {
     "base_uri": "https://localhost:8080/",
     "height": 207
    },
    "id": "fc689460",
    "outputId": "ef2d7b67-2c79-4718-bb2c-0a11f7e52b38"
   },
   "outputs": [
    {
     "data": {
      "text/html": [
       "\n",
       "  <div id=\"df-3aaffd4c-ef5d-4793-939f-270cdeb5bf68\">\n",
       "    <div class=\"colab-df-container\">\n",
       "      <div>\n",
       "<style scoped>\n",
       "    .dataframe tbody tr th:only-of-type {\n",
       "        vertical-align: middle;\n",
       "    }\n",
       "\n",
       "    .dataframe tbody tr th {\n",
       "        vertical-align: top;\n",
       "    }\n",
       "\n",
       "    .dataframe thead th {\n",
       "        text-align: right;\n",
       "    }\n",
       "</style>\n",
       "<table border=\"1\" class=\"dataframe\">\n",
       "  <thead>\n",
       "    <tr style=\"text-align: right;\">\n",
       "      <th></th>\n",
       "      <th>day_of_week</th>\n",
       "      <th>base_hour</th>\n",
       "      <th>lane_count</th>\n",
       "      <th>road_rating</th>\n",
       "      <th>maximum_speed_limit</th>\n",
       "      <th>weight_restricted</th>\n",
       "      <th>road_type</th>\n",
       "      <th>start_latitude</th>\n",
       "      <th>start_longitude</th>\n",
       "      <th>start_turn_restricted</th>\n",
       "      <th>end_latitude</th>\n",
       "      <th>end_longitude</th>\n",
       "      <th>end_turn_restricted</th>\n",
       "    </tr>\n",
       "  </thead>\n",
       "  <tbody>\n",
       "    <tr>\n",
       "      <th>0</th>\n",
       "      <td>1</td>\n",
       "      <td>17</td>\n",
       "      <td>1</td>\n",
       "      <td>106</td>\n",
       "      <td>60.0</td>\n",
       "      <td>32400.0</td>\n",
       "      <td>3</td>\n",
       "      <td>33.427747</td>\n",
       "      <td>126.662612</td>\n",
       "      <td>0</td>\n",
       "      <td>33.427749</td>\n",
       "      <td>126.662335</td>\n",
       "      <td>0</td>\n",
       "    </tr>\n",
       "    <tr>\n",
       "      <th>1</th>\n",
       "      <td>1</td>\n",
       "      <td>21</td>\n",
       "      <td>2</td>\n",
       "      <td>103</td>\n",
       "      <td>60.0</td>\n",
       "      <td>0.0</td>\n",
       "      <td>0</td>\n",
       "      <td>33.500730</td>\n",
       "      <td>126.529107</td>\n",
       "      <td>1</td>\n",
       "      <td>33.504811</td>\n",
       "      <td>126.526240</td>\n",
       "      <td>0</td>\n",
       "    </tr>\n",
       "    <tr>\n",
       "      <th>2</th>\n",
       "      <td>4</td>\n",
       "      <td>7</td>\n",
       "      <td>2</td>\n",
       "      <td>103</td>\n",
       "      <td>80.0</td>\n",
       "      <td>0.0</td>\n",
       "      <td>0</td>\n",
       "      <td>33.279145</td>\n",
       "      <td>126.368598</td>\n",
       "      <td>0</td>\n",
       "      <td>33.280072</td>\n",
       "      <td>126.362147</td>\n",
       "      <td>0</td>\n",
       "    </tr>\n",
       "  </tbody>\n",
       "</table>\n",
       "</div>\n",
       "      <button class=\"colab-df-convert\" onclick=\"convertToInteractive('df-3aaffd4c-ef5d-4793-939f-270cdeb5bf68')\"\n",
       "              title=\"Convert this dataframe to an interactive table.\"\n",
       "              style=\"display:none;\">\n",
       "        \n",
       "  <svg xmlns=\"http://www.w3.org/2000/svg\" height=\"24px\"viewBox=\"0 0 24 24\"\n",
       "       width=\"24px\">\n",
       "    <path d=\"M0 0h24v24H0V0z\" fill=\"none\"/>\n",
       "    <path d=\"M18.56 5.44l.94 2.06.94-2.06 2.06-.94-2.06-.94-.94-2.06-.94 2.06-2.06.94zm-11 1L8.5 8.5l.94-2.06 2.06-.94-2.06-.94L8.5 2.5l-.94 2.06-2.06.94zm10 10l.94 2.06.94-2.06 2.06-.94-2.06-.94-.94-2.06-.94 2.06-2.06.94z\"/><path d=\"M17.41 7.96l-1.37-1.37c-.4-.4-.92-.59-1.43-.59-.52 0-1.04.2-1.43.59L10.3 9.45l-7.72 7.72c-.78.78-.78 2.05 0 2.83L4 21.41c.39.39.9.59 1.41.59.51 0 1.02-.2 1.41-.59l7.78-7.78 2.81-2.81c.8-.78.8-2.07 0-2.86zM5.41 20L4 18.59l7.72-7.72 1.47 1.35L5.41 20z\"/>\n",
       "  </svg>\n",
       "      </button>\n",
       "      \n",
       "  <style>\n",
       "    .colab-df-container {\n",
       "      display:flex;\n",
       "      flex-wrap:wrap;\n",
       "      gap: 12px;\n",
       "    }\n",
       "\n",
       "    .colab-df-convert {\n",
       "      background-color: #E8F0FE;\n",
       "      border: none;\n",
       "      border-radius: 50%;\n",
       "      cursor: pointer;\n",
       "      display: none;\n",
       "      fill: #1967D2;\n",
       "      height: 32px;\n",
       "      padding: 0 0 0 0;\n",
       "      width: 32px;\n",
       "    }\n",
       "\n",
       "    .colab-df-convert:hover {\n",
       "      background-color: #E2EBFA;\n",
       "      box-shadow: 0px 1px 2px rgba(60, 64, 67, 0.3), 0px 1px 3px 1px rgba(60, 64, 67, 0.15);\n",
       "      fill: #174EA6;\n",
       "    }\n",
       "\n",
       "    [theme=dark] .colab-df-convert {\n",
       "      background-color: #3B4455;\n",
       "      fill: #D2E3FC;\n",
       "    }\n",
       "\n",
       "    [theme=dark] .colab-df-convert:hover {\n",
       "      background-color: #434B5C;\n",
       "      box-shadow: 0px 1px 3px 1px rgba(0, 0, 0, 0.15);\n",
       "      filter: drop-shadow(0px 1px 2px rgba(0, 0, 0, 0.3));\n",
       "      fill: #FFFFFF;\n",
       "    }\n",
       "  </style>\n",
       "\n",
       "      <script>\n",
       "        const buttonEl =\n",
       "          document.querySelector('#df-3aaffd4c-ef5d-4793-939f-270cdeb5bf68 button.colab-df-convert');\n",
       "        buttonEl.style.display =\n",
       "          google.colab.kernel.accessAllowed ? 'block' : 'none';\n",
       "\n",
       "        async function convertToInteractive(key) {\n",
       "          const element = document.querySelector('#df-3aaffd4c-ef5d-4793-939f-270cdeb5bf68');\n",
       "          const dataTable =\n",
       "            await google.colab.kernel.invokeFunction('convertToInteractive',\n",
       "                                                     [key], {});\n",
       "          if (!dataTable) return;\n",
       "\n",
       "          const docLinkHtml = 'Like what you see? Visit the ' +\n",
       "            '<a target=\"_blank\" href=https://colab.research.google.com/notebooks/data_table.ipynb>data table notebook</a>'\n",
       "            + ' to learn more about interactive tables.';\n",
       "          element.innerHTML = '';\n",
       "          dataTable['output_type'] = 'display_data';\n",
       "          await google.colab.output.renderOutput(dataTable, element);\n",
       "          const docLink = document.createElement('div');\n",
       "          docLink.innerHTML = docLinkHtml;\n",
       "          element.appendChild(docLink);\n",
       "        }\n",
       "      </script>\n",
       "    </div>\n",
       "  </div>\n",
       "  "
      ],
      "text/plain": [
       "   day_of_week  base_hour  lane_count  road_rating  maximum_speed_limit  \\\n",
       "0            1         17           1          106                 60.0   \n",
       "1            1         21           2          103                 60.0   \n",
       "2            4          7           2          103                 80.0   \n",
       "\n",
       "   weight_restricted  road_type  start_latitude  start_longitude  \\\n",
       "0            32400.0          3       33.427747       126.662612   \n",
       "1                0.0          0       33.500730       126.529107   \n",
       "2                0.0          0       33.279145       126.368598   \n",
       "\n",
       "   start_turn_restricted  end_latitude  end_longitude  end_turn_restricted  \n",
       "0                      0     33.427749     126.662335                    0  \n",
       "1                      1     33.504811     126.526240                    0  \n",
       "2                      0     33.280072     126.362147                    0  "
      ]
     },
     "execution_count": 86,
     "metadata": {},
     "output_type": "execute_result"
    }
   ],
   "source": [
    "X_train.head(3)"
   ]
  },
  {
   "cell_type": "markdown",
   "id": "9cL0_YbwCFQG",
   "metadata": {
    "id": "9cL0_YbwCFQG"
   },
   "source": [
    "#### 모델 선정, 학습, 예측"
   ]
  },
  {
   "cell_type": "code",
   "execution_count": 99,
   "id": "fa184e83",
   "metadata": {
    "id": "fa184e83"
   },
   "outputs": [],
   "source": [
    "#학습, 예측\n",
    "import lightgbm as lgb\n",
    "from lightgbm import LGBMRegressor\n",
    "LR = lgb.LGBMRegressor(random_state=42).fit(X_train, y_train)\n",
    "pred = LR.predict(X_test)"
   ]
  },
  {
   "cell_type": "code",
   "execution_count": 100,
   "id": "5757525d",
   "metadata": {
    "colab": {
     "base_uri": "https://localhost:8080/"
    },
    "id": "5757525d",
    "outputId": "c2d9976e-55c7-4750-9868-8b6c4abd232e",
    "scrolled": false
   },
   "outputs": [
    {
     "name": "stdout",
     "output_type": "stream",
     "text": [
      "[26.53519443 45.14235431 60.14120439 ... 21.08211915 25.38049222\n",
      " 42.19451889]\n"
     ]
    },
    {
     "data": {
      "text/plain": [
       "291241"
      ]
     },
     "execution_count": 100,
     "metadata": {},
     "output_type": "execute_result"
    }
   ],
   "source": [
    "print(pred)\n",
    "len(pred)"
   ]
  },
  {
   "cell_type": "code",
   "execution_count": 102,
   "id": "b22e6c22",
   "metadata": {
    "id": "b22e6c22"
   },
   "outputs": [],
   "source": [
    "sample_submission = pd.read_csv('/content/sample_submission.csv')\n",
    "sample_submission['target'] = pred\n",
    "sample_submission.to_csv(\"./jeju_submit.csv\", index = False)"
   ]
  },
  {
   "cell_type": "code",
   "execution_count": 103,
   "id": "a589ebaf",
   "metadata": {
    "colab": {
     "base_uri": "https://localhost:8080/",
     "height": 423
    },
    "id": "a589ebaf",
    "outputId": "442db345-c647-48ed-ad6e-fb6570ddc1e0"
   },
   "outputs": [
    {
     "data": {
      "text/html": [
       "\n",
       "  <div id=\"df-309ff925-4219-4e07-91bb-01388d54d729\">\n",
       "    <div class=\"colab-df-container\">\n",
       "      <div>\n",
       "<style scoped>\n",
       "    .dataframe tbody tr th:only-of-type {\n",
       "        vertical-align: middle;\n",
       "    }\n",
       "\n",
       "    .dataframe tbody tr th {\n",
       "        vertical-align: top;\n",
       "    }\n",
       "\n",
       "    .dataframe thead th {\n",
       "        text-align: right;\n",
       "    }\n",
       "</style>\n",
       "<table border=\"1\" class=\"dataframe\">\n",
       "  <thead>\n",
       "    <tr style=\"text-align: right;\">\n",
       "      <th></th>\n",
       "      <th>id</th>\n",
       "      <th>target</th>\n",
       "    </tr>\n",
       "  </thead>\n",
       "  <tbody>\n",
       "    <tr>\n",
       "      <th>0</th>\n",
       "      <td>TEST_000000</td>\n",
       "      <td>26.535194</td>\n",
       "    </tr>\n",
       "    <tr>\n",
       "      <th>1</th>\n",
       "      <td>TEST_000001</td>\n",
       "      <td>45.142354</td>\n",
       "    </tr>\n",
       "    <tr>\n",
       "      <th>2</th>\n",
       "      <td>TEST_000002</td>\n",
       "      <td>60.141204</td>\n",
       "    </tr>\n",
       "    <tr>\n",
       "      <th>3</th>\n",
       "      <td>TEST_000003</td>\n",
       "      <td>35.813601</td>\n",
       "    </tr>\n",
       "    <tr>\n",
       "      <th>4</th>\n",
       "      <td>TEST_000004</td>\n",
       "      <td>37.647478</td>\n",
       "    </tr>\n",
       "    <tr>\n",
       "      <th>...</th>\n",
       "      <td>...</td>\n",
       "      <td>...</td>\n",
       "    </tr>\n",
       "    <tr>\n",
       "      <th>291236</th>\n",
       "      <td>TEST_291236</td>\n",
       "      <td>45.840183</td>\n",
       "    </tr>\n",
       "    <tr>\n",
       "      <th>291237</th>\n",
       "      <td>TEST_291237</td>\n",
       "      <td>53.357572</td>\n",
       "    </tr>\n",
       "    <tr>\n",
       "      <th>291238</th>\n",
       "      <td>TEST_291238</td>\n",
       "      <td>21.082119</td>\n",
       "    </tr>\n",
       "    <tr>\n",
       "      <th>291239</th>\n",
       "      <td>TEST_291239</td>\n",
       "      <td>25.380492</td>\n",
       "    </tr>\n",
       "    <tr>\n",
       "      <th>291240</th>\n",
       "      <td>TEST_291240</td>\n",
       "      <td>42.194519</td>\n",
       "    </tr>\n",
       "  </tbody>\n",
       "</table>\n",
       "<p>291241 rows × 2 columns</p>\n",
       "</div>\n",
       "      <button class=\"colab-df-convert\" onclick=\"convertToInteractive('df-309ff925-4219-4e07-91bb-01388d54d729')\"\n",
       "              title=\"Convert this dataframe to an interactive table.\"\n",
       "              style=\"display:none;\">\n",
       "        \n",
       "  <svg xmlns=\"http://www.w3.org/2000/svg\" height=\"24px\"viewBox=\"0 0 24 24\"\n",
       "       width=\"24px\">\n",
       "    <path d=\"M0 0h24v24H0V0z\" fill=\"none\"/>\n",
       "    <path d=\"M18.56 5.44l.94 2.06.94-2.06 2.06-.94-2.06-.94-.94-2.06-.94 2.06-2.06.94zm-11 1L8.5 8.5l.94-2.06 2.06-.94-2.06-.94L8.5 2.5l-.94 2.06-2.06.94zm10 10l.94 2.06.94-2.06 2.06-.94-2.06-.94-.94-2.06-.94 2.06-2.06.94z\"/><path d=\"M17.41 7.96l-1.37-1.37c-.4-.4-.92-.59-1.43-.59-.52 0-1.04.2-1.43.59L10.3 9.45l-7.72 7.72c-.78.78-.78 2.05 0 2.83L4 21.41c.39.39.9.59 1.41.59.51 0 1.02-.2 1.41-.59l7.78-7.78 2.81-2.81c.8-.78.8-2.07 0-2.86zM5.41 20L4 18.59l7.72-7.72 1.47 1.35L5.41 20z\"/>\n",
       "  </svg>\n",
       "      </button>\n",
       "      \n",
       "  <style>\n",
       "    .colab-df-container {\n",
       "      display:flex;\n",
       "      flex-wrap:wrap;\n",
       "      gap: 12px;\n",
       "    }\n",
       "\n",
       "    .colab-df-convert {\n",
       "      background-color: #E8F0FE;\n",
       "      border: none;\n",
       "      border-radius: 50%;\n",
       "      cursor: pointer;\n",
       "      display: none;\n",
       "      fill: #1967D2;\n",
       "      height: 32px;\n",
       "      padding: 0 0 0 0;\n",
       "      width: 32px;\n",
       "    }\n",
       "\n",
       "    .colab-df-convert:hover {\n",
       "      background-color: #E2EBFA;\n",
       "      box-shadow: 0px 1px 2px rgba(60, 64, 67, 0.3), 0px 1px 3px 1px rgba(60, 64, 67, 0.15);\n",
       "      fill: #174EA6;\n",
       "    }\n",
       "\n",
       "    [theme=dark] .colab-df-convert {\n",
       "      background-color: #3B4455;\n",
       "      fill: #D2E3FC;\n",
       "    }\n",
       "\n",
       "    [theme=dark] .colab-df-convert:hover {\n",
       "      background-color: #434B5C;\n",
       "      box-shadow: 0px 1px 3px 1px rgba(0, 0, 0, 0.15);\n",
       "      filter: drop-shadow(0px 1px 2px rgba(0, 0, 0, 0.3));\n",
       "      fill: #FFFFFF;\n",
       "    }\n",
       "  </style>\n",
       "\n",
       "      <script>\n",
       "        const buttonEl =\n",
       "          document.querySelector('#df-309ff925-4219-4e07-91bb-01388d54d729 button.colab-df-convert');\n",
       "        buttonEl.style.display =\n",
       "          google.colab.kernel.accessAllowed ? 'block' : 'none';\n",
       "\n",
       "        async function convertToInteractive(key) {\n",
       "          const element = document.querySelector('#df-309ff925-4219-4e07-91bb-01388d54d729');\n",
       "          const dataTable =\n",
       "            await google.colab.kernel.invokeFunction('convertToInteractive',\n",
       "                                                     [key], {});\n",
       "          if (!dataTable) return;\n",
       "\n",
       "          const docLinkHtml = 'Like what you see? Visit the ' +\n",
       "            '<a target=\"_blank\" href=https://colab.research.google.com/notebooks/data_table.ipynb>data table notebook</a>'\n",
       "            + ' to learn more about interactive tables.';\n",
       "          element.innerHTML = '';\n",
       "          dataTable['output_type'] = 'display_data';\n",
       "          await google.colab.output.renderOutput(dataTable, element);\n",
       "          const docLink = document.createElement('div');\n",
       "          docLink.innerHTML = docLinkHtml;\n",
       "          element.appendChild(docLink);\n",
       "        }\n",
       "      </script>\n",
       "    </div>\n",
       "  </div>\n",
       "  "
      ],
      "text/plain": [
       "                 id     target\n",
       "0       TEST_000000  26.535194\n",
       "1       TEST_000001  45.142354\n",
       "2       TEST_000002  60.141204\n",
       "3       TEST_000003  35.813601\n",
       "4       TEST_000004  37.647478\n",
       "...             ...        ...\n",
       "291236  TEST_291236  45.840183\n",
       "291237  TEST_291237  53.357572\n",
       "291238  TEST_291238  21.082119\n",
       "291239  TEST_291239  25.380492\n",
       "291240  TEST_291240  42.194519\n",
       "\n",
       "[291241 rows x 2 columns]"
      ]
     },
     "execution_count": 103,
     "metadata": {},
     "output_type": "execute_result"
    }
   ],
   "source": [
    "sample_submission"
   ]
  },
  {
   "cell_type": "code",
   "execution_count": 104,
   "id": "U-yzHitQCTX5",
   "metadata": {
    "colab": {
     "base_uri": "https://localhost:8080/",
     "height": 1000
    },
    "id": "U-yzHitQCTX5",
    "outputId": "f4f1665e-85c8-45d3-bff9-4aab77a73c77"
   },
   "outputs": [
    {
     "data": {
      "text/plain": [
       "<Axes: title={'center': 'Feature importance'}, xlabel='Feature importance', ylabel='Features'>"
      ]
     },
     "execution_count": 104,
     "metadata": {},
     "output_type": "execute_result"
    },
    {
     "data": {
      "image/png": "[encoded data removed]",
      "text/plain": [
       "<Figure size 1000x1200 with 1 Axes>"
      ]
     },
     "metadata": {},
     "output_type": "display_data"
    }
   ],
   "source": [
    "import matplotlib.pyplot as plt\n",
    "from lightgbm import plot_importance\n",
    "\n",
    "fig, ax = plt.subplots(figsize=(10,12))\n",
    "plot_importance(LR, ax=ax)"
   ]
  },
  {
   "cell_type": "markdown",
   "id": "4Sk_s2FhDnNJ",
   "metadata": {
    "id": "4Sk_s2FhDnNJ"
   },
   "source": [
    "시작점 위/경도, 끝지점 위/경도 피처들이 가장 높은 중요도를 갖고있음\n",
    "\n",
    "어케 활용해야 할지 모르겠는게 이 대회에서 나의 한계...\n",
    "\n",
    "전처리 공부를 더 해야할거같다.."
   ]
  },
  {
   "cell_type": "code",
   "execution_count": null,
   "id": "mho38Jx-DeaW",
   "metadata": {
    "id": "mho38Jx-DeaW"
   },
   "outputs": [],
   "source": []
  }
 ],
 "metadata": {
  "colab": {
   "provenance": []
  },
  "kernelspec": {
   "display_name": "Python 3 (ipykernel)",
   "language": "python",
   "name": "python3"
  },
  "language_info": {
   "codemirror_mode": {
    "name": "ipython",
    "version": 3
   },
   "file_extension": ".py",
   "mimetype": "text/x-python",
   "name": "python",
   "nbconvert_exporter": "python",
   "pygments_lexer": "ipython3",
   "version": "3.11.4"
  }
 },
 "nbformat": 4,
 "nbformat_minor": 5
}
